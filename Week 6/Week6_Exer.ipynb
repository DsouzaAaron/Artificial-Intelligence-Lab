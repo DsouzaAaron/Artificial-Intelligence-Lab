{
  "nbformat": 4,
  "nbformat_minor": 0,
  "metadata": {
    "colab": {
      "provenance": []
    },
    "kernelspec": {
      "name": "python3",
      "display_name": "Python 3"
    },
    "language_info": {
      "name": "python"
    }
  },
  "cells": [
    {
      "cell_type": "markdown",
      "source": [
        "# WEEK 6 –MULTI-ARMED BANDITS –AD OPTIMIZATION"
      ],
      "metadata": {
        "id": "kuqhunJhleld"
      }
    },
    {
      "cell_type": "markdown",
      "source": [
        "Name: Aaron Dsouza<br>\n",
        "Reg No.: 200968008"
      ],
      "metadata": {
        "id": "sbnE6NnmaIdF"
      }
    },
    {
      "cell_type": "code",
      "source": [
        "# Importing the Libraries\n",
        "import numpy as np\n",
        "import matplotlib.pyplot as plt\n",
        "import pandas as pd\n",
        "import random\n",
        "import math"
      ],
      "metadata": {
        "id": "1WcA1FfTljRj"
      },
      "execution_count": null,
      "outputs": []
    },
    {
      "cell_type": "markdown",
      "source": [
        "<i><b>Question</b></i>:<br>\n",
        "Consider the given dataset “Ads_clicks” containing data about which add was clicked in each time step. Suppose an advertising company is running 10 different ads targeted towards a similar set of the population on a webpage. We have results for which ads were clicked by a user Each column index represents a different ad. We have a 1 if the ad was clicked by a user, and 0 if it was not."
      ],
      "metadata": {
        "id": "gs2Tab1RF_2n"
      }
    },
    {
      "cell_type": "code",
      "source": [
        "df = pd.read_csv('Ads_Optimisation.csv')"
      ],
      "metadata": {
        "id": "X9R0vtIUlzMU"
      },
      "execution_count": null,
      "outputs": []
    },
    {
      "cell_type": "code",
      "source": [
        "df.head()"
      ],
      "metadata": {
        "colab": {
          "base_uri": "https://localhost:8080/",
          "height": 206
        },
        "id": "va_Aa6ajAsNU",
        "outputId": "79bb6df1-6151-43ab-9839-c354646aaea9"
      },
      "execution_count": null,
      "outputs": [
        {
          "output_type": "execute_result",
          "data": {
            "text/plain": [
              "   Ad 1  Ad 2  Ad 3  Ad 4  Ad 5  Ad 6  Ad 7  Ad 8  Ad 9  Ad 10\n",
              "0     1     0     0     0     1     0     0     0     1      0\n",
              "1     0     0     0     0     0     0     0     0     1      0\n",
              "2     0     0     0     0     0     0     0     0     0      0\n",
              "3     0     1     0     0     0     0     0     1     0      0\n",
              "4     0     0     0     0     0     0     0     0     0      0"
            ],
            "text/html": [
              "\n",
              "  <div id=\"df-24978102-f8dd-4a6d-95e6-26dff9619018\">\n",
              "    <div class=\"colab-df-container\">\n",
              "      <div>\n",
              "<style scoped>\n",
              "    .dataframe tbody tr th:only-of-type {\n",
              "        vertical-align: middle;\n",
              "    }\n",
              "\n",
              "    .dataframe tbody tr th {\n",
              "        vertical-align: top;\n",
              "    }\n",
              "\n",
              "    .dataframe thead th {\n",
              "        text-align: right;\n",
              "    }\n",
              "</style>\n",
              "<table border=\"1\" class=\"dataframe\">\n",
              "  <thead>\n",
              "    <tr style=\"text-align: right;\">\n",
              "      <th></th>\n",
              "      <th>Ad 1</th>\n",
              "      <th>Ad 2</th>\n",
              "      <th>Ad 3</th>\n",
              "      <th>Ad 4</th>\n",
              "      <th>Ad 5</th>\n",
              "      <th>Ad 6</th>\n",
              "      <th>Ad 7</th>\n",
              "      <th>Ad 8</th>\n",
              "      <th>Ad 9</th>\n",
              "      <th>Ad 10</th>\n",
              "    </tr>\n",
              "  </thead>\n",
              "  <tbody>\n",
              "    <tr>\n",
              "      <th>0</th>\n",
              "      <td>1</td>\n",
              "      <td>0</td>\n",
              "      <td>0</td>\n",
              "      <td>0</td>\n",
              "      <td>1</td>\n",
              "      <td>0</td>\n",
              "      <td>0</td>\n",
              "      <td>0</td>\n",
              "      <td>1</td>\n",
              "      <td>0</td>\n",
              "    </tr>\n",
              "    <tr>\n",
              "      <th>1</th>\n",
              "      <td>0</td>\n",
              "      <td>0</td>\n",
              "      <td>0</td>\n",
              "      <td>0</td>\n",
              "      <td>0</td>\n",
              "      <td>0</td>\n",
              "      <td>0</td>\n",
              "      <td>0</td>\n",
              "      <td>1</td>\n",
              "      <td>0</td>\n",
              "    </tr>\n",
              "    <tr>\n",
              "      <th>2</th>\n",
              "      <td>0</td>\n",
              "      <td>0</td>\n",
              "      <td>0</td>\n",
              "      <td>0</td>\n",
              "      <td>0</td>\n",
              "      <td>0</td>\n",
              "      <td>0</td>\n",
              "      <td>0</td>\n",
              "      <td>0</td>\n",
              "      <td>0</td>\n",
              "    </tr>\n",
              "    <tr>\n",
              "      <th>3</th>\n",
              "      <td>0</td>\n",
              "      <td>1</td>\n",
              "      <td>0</td>\n",
              "      <td>0</td>\n",
              "      <td>0</td>\n",
              "      <td>0</td>\n",
              "      <td>0</td>\n",
              "      <td>1</td>\n",
              "      <td>0</td>\n",
              "      <td>0</td>\n",
              "    </tr>\n",
              "    <tr>\n",
              "      <th>4</th>\n",
              "      <td>0</td>\n",
              "      <td>0</td>\n",
              "      <td>0</td>\n",
              "      <td>0</td>\n",
              "      <td>0</td>\n",
              "      <td>0</td>\n",
              "      <td>0</td>\n",
              "      <td>0</td>\n",
              "      <td>0</td>\n",
              "      <td>0</td>\n",
              "    </tr>\n",
              "  </tbody>\n",
              "</table>\n",
              "</div>\n",
              "      <button class=\"colab-df-convert\" onclick=\"convertToInteractive('df-24978102-f8dd-4a6d-95e6-26dff9619018')\"\n",
              "              title=\"Convert this dataframe to an interactive table.\"\n",
              "              style=\"display:none;\">\n",
              "        \n",
              "  <svg xmlns=\"http://www.w3.org/2000/svg\" height=\"24px\"viewBox=\"0 0 24 24\"\n",
              "       width=\"24px\">\n",
              "    <path d=\"M0 0h24v24H0V0z\" fill=\"none\"/>\n",
              "    <path d=\"M18.56 5.44l.94 2.06.94-2.06 2.06-.94-2.06-.94-.94-2.06-.94 2.06-2.06.94zm-11 1L8.5 8.5l.94-2.06 2.06-.94-2.06-.94L8.5 2.5l-.94 2.06-2.06.94zm10 10l.94 2.06.94-2.06 2.06-.94-2.06-.94-.94-2.06-.94 2.06-2.06.94z\"/><path d=\"M17.41 7.96l-1.37-1.37c-.4-.4-.92-.59-1.43-.59-.52 0-1.04.2-1.43.59L10.3 9.45l-7.72 7.72c-.78.78-.78 2.05 0 2.83L4 21.41c.39.39.9.59 1.41.59.51 0 1.02-.2 1.41-.59l7.78-7.78 2.81-2.81c.8-.78.8-2.07 0-2.86zM5.41 20L4 18.59l7.72-7.72 1.47 1.35L5.41 20z\"/>\n",
              "  </svg>\n",
              "      </button>\n",
              "      \n",
              "  <style>\n",
              "    .colab-df-container {\n",
              "      display:flex;\n",
              "      flex-wrap:wrap;\n",
              "      gap: 12px;\n",
              "    }\n",
              "\n",
              "    .colab-df-convert {\n",
              "      background-color: #E8F0FE;\n",
              "      border: none;\n",
              "      border-radius: 50%;\n",
              "      cursor: pointer;\n",
              "      display: none;\n",
              "      fill: #1967D2;\n",
              "      height: 32px;\n",
              "      padding: 0 0 0 0;\n",
              "      width: 32px;\n",
              "    }\n",
              "\n",
              "    .colab-df-convert:hover {\n",
              "      background-color: #E2EBFA;\n",
              "      box-shadow: 0px 1px 2px rgba(60, 64, 67, 0.3), 0px 1px 3px 1px rgba(60, 64, 67, 0.15);\n",
              "      fill: #174EA6;\n",
              "    }\n",
              "\n",
              "    [theme=dark] .colab-df-convert {\n",
              "      background-color: #3B4455;\n",
              "      fill: #D2E3FC;\n",
              "    }\n",
              "\n",
              "    [theme=dark] .colab-df-convert:hover {\n",
              "      background-color: #434B5C;\n",
              "      box-shadow: 0px 1px 3px 1px rgba(0, 0, 0, 0.15);\n",
              "      filter: drop-shadow(0px 1px 2px rgba(0, 0, 0, 0.3));\n",
              "      fill: #FFFFFF;\n",
              "    }\n",
              "  </style>\n",
              "\n",
              "      <script>\n",
              "        const buttonEl =\n",
              "          document.querySelector('#df-24978102-f8dd-4a6d-95e6-26dff9619018 button.colab-df-convert');\n",
              "        buttonEl.style.display =\n",
              "          google.colab.kernel.accessAllowed ? 'block' : 'none';\n",
              "\n",
              "        async function convertToInteractive(key) {\n",
              "          const element = document.querySelector('#df-24978102-f8dd-4a6d-95e6-26dff9619018');\n",
              "          const dataTable =\n",
              "            await google.colab.kernel.invokeFunction('convertToInteractive',\n",
              "                                                     [key], {});\n",
              "          if (!dataTable) return;\n",
              "\n",
              "          const docLinkHtml = 'Like what you see? Visit the ' +\n",
              "            '<a target=\"_blank\" href=https://colab.research.google.com/notebooks/data_table.ipynb>data table notebook</a>'\n",
              "            + ' to learn more about interactive tables.';\n",
              "          element.innerHTML = '';\n",
              "          dataTable['output_type'] = 'display_data';\n",
              "          await google.colab.output.renderOutput(dataTable, element);\n",
              "          const docLink = document.createElement('div');\n",
              "          docLink.innerHTML = docLinkHtml;\n",
              "          element.appendChild(docLink);\n",
              "        }\n",
              "      </script>\n",
              "    </div>\n",
              "  </div>\n",
              "  "
            ]
          },
          "metadata": {},
          "execution_count": 6
        }
      ]
    },
    {
      "cell_type": "code",
      "source": [
        "df.shape"
      ],
      "metadata": {
        "colab": {
          "base_uri": "https://localhost:8080/"
        },
        "id": "ferImCDIAwBX",
        "outputId": "2a072b9f-da04-475c-b974-7627a79885c9"
      },
      "execution_count": null,
      "outputs": [
        {
          "output_type": "execute_result",
          "data": {
            "text/plain": [
              "(10000, 10)"
            ]
          },
          "metadata": {},
          "execution_count": 7
        }
      ]
    },
    {
      "cell_type": "code",
      "source": [
        "df.info()"
      ],
      "metadata": {
        "colab": {
          "base_uri": "https://localhost:8080/"
        },
        "id": "bUSPeZePAzMW",
        "outputId": "2d149dc4-8711-490d-c285-2140c14453b6"
      },
      "execution_count": null,
      "outputs": [
        {
          "output_type": "stream",
          "name": "stdout",
          "text": [
            "<class 'pandas.core.frame.DataFrame'>\n",
            "RangeIndex: 10000 entries, 0 to 9999\n",
            "Data columns (total 10 columns):\n",
            " #   Column  Non-Null Count  Dtype\n",
            "---  ------  --------------  -----\n",
            " 0   Ad 1    10000 non-null  int64\n",
            " 1   Ad 2    10000 non-null  int64\n",
            " 2   Ad 3    10000 non-null  int64\n",
            " 3   Ad 4    10000 non-null  int64\n",
            " 4   Ad 5    10000 non-null  int64\n",
            " 5   Ad 6    10000 non-null  int64\n",
            " 6   Ad 7    10000 non-null  int64\n",
            " 7   Ad 8    10000 non-null  int64\n",
            " 8   Ad 9    10000 non-null  int64\n",
            " 9   Ad 10   10000 non-null  int64\n",
            "dtypes: int64(10)\n",
            "memory usage: 781.4 KB\n"
          ]
        }
      ]
    },
    {
      "cell_type": "markdown",
      "source": [
        "### **A. Write down the MAB agent problem formulation in your own words.**"
      ],
      "metadata": {
        "id": "Byz72xJ2F8E8"
      }
    },
    {
      "cell_type": "markdown",
      "source": [
        "<ul>\n",
        "<li>State: Current user preferences and history of Ads clicked by the user, based on which MAB has to choose to display one out of 10 different Ads</li>\n",
        "<li>Action: Show an Ad to the user</li>\n",
        "<li>Reward: 1 if user clicks the Ad else 0</li>\n",
        "<li>Goal: Maximize the total reward i.e, show the ads that are most likely to be clicked by the user</li>\n",
        "<li>Policy: The policy is the function that maps from states to actions. The goal of the policy is to maximize the expected cumulative reward over time while minimizing the regret.</li>\n",
        "</ul>"
      ],
      "metadata": {
        "id": "_sZeUO4QGQCC"
      }
    },
    {
      "cell_type": "markdown",
      "source": [
        "### **B. Compute the total rewards after 2000-time steps using the ε-greedy action.  a. for ε=0.01, ε= 0.3**"
      ],
      "metadata": {
        "id": "nVLm3PDhHvdn"
      }
    },
    {
      "cell_type": "markdown",
      "source": [
        "***For epsilon = 0.01***"
      ],
      "metadata": {
        "id": "fRIwB1SqLP1B"
      }
    },
    {
      "cell_type": "code",
      "source": [
        "# Implementing random selection\n",
        "N = 2000\n",
        "d = 10\n",
        "epsilon = 0.01\n",
        "ads_selected = []\n",
        "total_reward = 0\n",
        "\n",
        "Q = np.zeros(d)\n",
        "N = np.zeros(d)\n",
        "\n",
        "\n",
        "\n",
        "import numpy as np\n",
        "\n",
        "for t in range(2000):\n",
        "    if np.random.uniform() < epsilon:\n",
        "        arm = np.random.randint(d)\n",
        "    else:\n",
        "        arm = np.argmax(Q)\n",
        "    # Compute the reward obtained from the selected ad\n",
        "    reward = df.values[t, arm]\n",
        "    N[arm] += 1\n",
        "    Q[arm] += (1/N[arm]) * (reward - Q[arm])\n",
        "    total_reward += reward\n",
        "\n",
        "\n",
        "print(\"Total reward obtained: \", total_reward)\n",
        "print(\"Total Reward: %d\" % (total_reward))"
      ],
      "metadata": {
        "colab": {
          "base_uri": "https://localhost:8080/"
        },
        "id": "FfTiUZL6l6Dj",
        "outputId": "37ec0998-18a9-4263-954c-abc146ca0cb5"
      },
      "execution_count": null,
      "outputs": [
        {
          "output_type": "stream",
          "name": "stdout",
          "text": [
            "Total reward obtained:  444\n",
            "Total Reward: 444\n"
          ]
        }
      ]
    },
    {
      "cell_type": "markdown",
      "source": [
        "***For epsilon = 0.3***"
      ],
      "metadata": {
        "id": "UitfXfMnDSg3"
      }
    },
    {
      "cell_type": "code",
      "source": [
        "# Implementing random selection\n",
        "N = 2000\n",
        "d = 10\n",
        "epsilon = 0.3\n",
        "ads_selected = []\n",
        "total_reward = 0\n",
        "\n",
        "Q = np.zeros(d)\n",
        "N = np.zeros(d)\n",
        "\n",
        "\n",
        "\n",
        "import numpy as np\n",
        "\n",
        "for t in range(2000):\n",
        "    if np.random.uniform() < epsilon:\n",
        "        arm = np.random.randint(d)\n",
        "    else:\n",
        "        arm = np.argmax(Q)\n",
        "\n",
        "    # Compute the reward obtained from the selected ad\n",
        "    reward = df.values[t, arm]\n",
        "    N[arm] += 1\n",
        "    Q[arm] += (1/N[arm]) * (reward - Q[arm])\n",
        "    total_reward += reward\n",
        "\n",
        "\n",
        "print(\"Total reward obtained: \", total_reward)\n",
        "print(\"Total Reward: %d\" % (total_reward))"
      ],
      "metadata": {
        "colab": {
          "base_uri": "https://localhost:8080/"
        },
        "id": "kiEUl-YIDZHc",
        "outputId": "074a8352-bb4e-4885-c28a-8b11c6d386ef"
      },
      "execution_count": null,
      "outputs": [
        {
          "output_type": "stream",
          "name": "stdout",
          "text": [
            "Total reward obtained:  426\n",
            "Total Reward: 426\n"
          ]
        }
      ]
    },
    {
      "cell_type": "markdown",
      "source": [
        "***What if we intialize Estimated value of Action (Q array) as 5 (optimistic value)***"
      ],
      "metadata": {
        "id": "CUUA9XtTFgkK"
      }
    },
    {
      "cell_type": "code",
      "source": [
        "N = 2000\n",
        "d = 10\n",
        "epsilon = 0.01\n",
        "ads_selected = []\n",
        "total_reward = 0\n",
        "\n",
        "Q = [5]*d\n",
        "N = np.zeros(d)\n",
        "Q = np.array(Q)\n",
        "\n",
        "import numpy as np\n",
        "\n",
        "for t in range(2000):\n",
        "    if np.random.uniform() < epsilon:\n",
        "        arm = np.random.randint(d)\n",
        "    else:\n",
        "        arm = np.argmax(Q)\n",
        "\n",
        "    # Compute the reward obtained from the selected ad\n",
        "    reward = df.values[t, arm]\n",
        "    N[arm] += 1\n",
        "    Q[arm] += (1/N[arm]) * (reward - Q[arm])\n",
        "    total_reward += reward\n",
        "\n",
        "\n",
        "print(\"Total reward obtained: \", total_reward)\n",
        "print(\"Total Reward: %d\" % (total_reward))"
      ],
      "metadata": {
        "colab": {
          "base_uri": "https://localhost:8080/"
        },
        "id": "O6eanpNJFYxa",
        "outputId": "7b5dc577-dd8f-4be0-b203-53739df849a6"
      },
      "execution_count": null,
      "outputs": [
        {
          "output_type": "stream",
          "name": "stdout",
          "text": [
            "Total reward obtained:  338\n",
            "Total Reward: 338\n"
          ]
        }
      ]
    },
    {
      "cell_type": "markdown",
      "source": [
        "### ***C. Compute the total rewards after 2000-time steps using the Upper-Confidence-Bound action method for c= 1.5***"
      ],
      "metadata": {
        "id": "-t-stJFMIAhi"
      }
    },
    {
      "cell_type": "code",
      "source": [
        "# N : Timesteps\n",
        "N = 2000\n",
        "\n",
        "# d : Number of Ads i.e, No. of actions\n",
        "d = 10\n",
        "\n",
        "# c : Confidence value\n",
        "c = 1.5\n",
        "\n",
        "ads_selected = []\n",
        "numbers_of_selections = [0]*d\n",
        "sums_of_reward = [0]*d\n",
        "total_reward = 0\n",
        "\n",
        "for n in range(0,N):\n",
        "  ad = 0\n",
        "  max_upper_bound = 0\n",
        "  for i in range(0,d):\n",
        "    if(numbers_of_selections[i] > 0):\n",
        "      avg_reward = sums_of_reward[i] / numbers_of_selections[i]\n",
        "      delta_i = c*math.sqrt(math.log(n+1) / numbers_of_selections[i])\n",
        "      ub = avg_reward + delta_i\n",
        "    else:\n",
        "      # Intializing Upper Bound for action that hasn't been selected before\n",
        "      ub = 1e400\n",
        "    if ub > max_upper_bound:\n",
        "      max_upper_bound = ub\n",
        "      ad = i\n",
        "\n",
        "  ads_selected.append(ad)\n",
        "  numbers_of_selections[ad] += 1\n",
        "\n",
        "  reward = df.values[n, ad]\n",
        "  sums_of_reward[ad] += reward\n",
        "  total_reward += reward\n",
        "  \n",
        "print(\"Total Reward: %d\" % (total_reward))"
      ],
      "metadata": {
        "colab": {
          "base_uri": "https://localhost:8080/"
        },
        "id": "WL9yHv2gnGA8",
        "outputId": "e47ae045-e5aa-445b-e70b-c38548f13377"
      },
      "execution_count": null,
      "outputs": [
        {
          "output_type": "stream",
          "name": "stdout",
          "text": [
            "Total Reward: 323\n"
          ]
        }
      ]
    },
    {
      "cell_type": "markdown",
      "source": [
        "### ***D. For all approaches, explain how the action value estimated compares to the optimal action.***"
      ],
      "metadata": {
        "id": "fx5JpRMuIQgv"
      }
    },
    {
      "cell_type": "markdown",
      "source": [
        "<li>For epsilon greedy method, sample average method is used to estimate the value of action. This method doesn't efficiently explore because it randomly picks any action during exploration based on the value of epsilon</li>\n",
        "<li>For Upper Confidence Bound Method (UCB), estimated action value is based on the sum of average reward and an uncertainity parameter which is based on confidence value c. This method provides the best trade off between exploration and exploitation.</li>"
      ],
      "metadata": {
        "id": "7oQ_dRiNaqyz"
      }
    },
    {
      "cell_type": "code",
      "source": [],
      "metadata": {
        "id": "-blXIOhpxvp0"
      },
      "execution_count": null,
      "outputs": []
    }
  ]
}