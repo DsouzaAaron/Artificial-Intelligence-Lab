{
  "cells": [
    {
      "cell_type": "markdown",
      "source": [
        "# WEEK 4: Gaming Agent & Negamax search"
      ],
      "metadata": {
        "id": "0Ju7dMdeuKsq"
      }
    },
    {
      "cell_type": "markdown",
      "source": [
        "Reg No.: 200968008<br>\n",
        "Name: Aaron Dsouza\n"
      ],
      "metadata": {
        "id": "gQ1QyYdluYtG"
      }
    },
    {
      "cell_type": "code",
      "source": [
        "# Installing the EasyAI package\n",
        "!pip install easyAI"
      ],
      "outputs": [
        {
          "output_type": "stream",
          "name": "stdout",
          "text": "Looking in indexes: https://pypi.org/simple, https://us-python.pkg.dev/colab-wheels/public/simple/\nRequirement already satisfied: easyAI in /usr/local/lib/python3.8/dist-packages (2.0.12)\nRequirement already satisfied: numpy in /usr/local/lib/python3.8/dist-packages (from easyAI) (1.22.4)\n"
        }
      ],
      "execution_count": 39,
      "metadata": {
        "colab": {
          "base_uri": "https://localhost:8080/"
        },
        "id": "zFh1H1QOgHzo",
        "outputId": "88c852dc-02ce-4908-8783-5a7ac9ac5683"
      }
    },
    {
      "cell_type": "code",
      "source": [
        "# Importing the Libraries\n",
        "from easyAI import TwoPlayerGame\n",
        "from easyAI.Player import Human_Player\n",
        "from easyAI import AI_Player, Negamax"
      ],
      "outputs": [],
      "execution_count": 40,
      "metadata": {
        "id": "h0WmPVGGf5Rj"
      }
    },
    {
      "cell_type": "code",
      "source": [
        "# Implementing the TicTacToe Class\n",
        "class TicTacToe(TwoPlayerGame):\n",
        "    \"\"\"The board positions are numbered as follows:\n",
        "    1 2 3\n",
        "    4 5 6\n",
        "    7 8 9\n",
        "    \"\"\"\n",
        "    def __init__(self, players=None):\n",
        "        self.players = players\n",
        "        self.board = [0 for i in range(9)]\n",
        "        self.current_player = 1  # player 1 starts.\n",
        "\n",
        "    # def nopponent(self):\n",
        "    #     return 2 if (self.nplayer == 1) else 1\n",
        "\n",
        "    def possible_moves(self):\n",
        "        return [a + 1 for a, b in enumerate(self.board) if b == 0]\n",
        "\n",
        "    def make_move(self, move):\n",
        "        self.board[int(move) - 1] = self.current_player\n",
        "\n",
        "    def unmake_move(self, move):\n",
        "        self.board[int(move) - 1] = 0\n",
        "\n",
        "    def lose(self):\n",
        "        return any([all([(self.board[c - 1] == self.opponent_index)\n",
        "                         for c in line])\n",
        "                    for line in [[1, 2, 3], [4, 5, 6], [7, 8, 9], # Horizontal\n",
        "                                 [1, 4, 7], [2, 5, 8], [3, 6, 9], # Vertical\n",
        "                                 [1, 5, 9], [3, 5, 7]]]) # Diagonal\n",
        "\n",
        "    def is_over(self):\n",
        "        return (self.possible_moves() == []) or self.lose()\n",
        "\n",
        "    def show(self):\n",
        "        print('\\n' + '\\n'.join([\n",
        "                        ' '.join([['.', 'O', 'X'][self.board[3*j+i]]\n",
        "                        for i in range(3)])\n",
        "                for j in range(3)]))\n",
        "\n",
        "    def scoring(self):\n",
        "        return -100 if self.lose() else 0"
      ],
      "outputs": [],
      "execution_count": 41,
      "metadata": {
        "id": "Gt9qFiN7fRPI"
      }
    },
    {
      "cell_type": "code",
      "source": [],
      "outputs": [],
      "execution_count": 41,
      "metadata": {
        "id": "8gMO03jRv1wK"
      }
    },
    {
      "cell_type": "code",
      "source": [
        "# Testing the game\n",
        "ai_algo = Negamax(5)\n",
        "game = TicTacToe([Human_Player(), AI_Player(ai_algo)])\n",
        "history = game.play()\n",
        "score = game.scoring()\n",
        "if score == 0:\n",
        "  print(\"MATCH IS A DRAW\")\n",
        "elif score > 0:\n",
        "  print(\"HUMAN PLAYER WINS THE MATCH\")\n",
        "else:\n",
        "  print(\"AI PLAYER WINS THE MATCH\")"
      ],
      "outputs": [
        {
          "output_type": "stream",
          "name": "stdout",
          "text": "\n. . .\n. . .\n. . .\n\nPlayer 1 what do you play ? 5\n\nMove #1: player 1 plays 5 :\n\n. . .\n. O .\n. . .\n\nMove #2: player 2 plays 1 :\n\nX . .\n. O .\n. . .\n\nPlayer 1 what do you play ? 2\n\nMove #3: player 1 plays 2 :\n\nX O .\n. O .\n. . .\n\nMove #4: player 2 plays 8 :\n\nX O .\n. O .\n. X .\n\nPlayer 1 what do you play ? 6\n\nMove #5: player 1 plays 6 :\n\nX O .\n. O O\n. X .\n\nMove #6: player 2 plays 4 :\n\nX O .\nX O O\n. X .\n\nPlayer 1 what do you play ? 7\n\nMove #7: player 1 plays 7 :\n\nX O .\nX O O\nO X .\n\nMove #8: player 2 plays 3 :\n\nX O X\nX O O\nO X .\n\nPlayer 1 what do you play ? 9\n\nMove #9: player 1 plays 9 :\n\nX O X\nX O O\nO X O\nMATCH IS A DRAW\n"
        }
      ],
      "execution_count": 42,
      "metadata": {
        "colab": {
          "base_uri": "https://localhost:8080/"
        },
        "id": "SvdBwzXDf9gO",
        "outputId": "82408c29-55f7-4f20-bce7-428e8da7e781"
      }
    },
    {
      "cell_type": "markdown",
      "source": [
        "## Solving the game"
      ],
      "metadata": {
        "id": "Iu2XmjDooaW0"
      }
    },
    {
      "cell_type": "markdown",
      "source": [
        "Determines if by playing perfectly the first player can force a win, or whether it will always lose against a perfect opponent."
      ],
      "metadata": {
        "id": "tBl04qX5qq9n"
      }
    },
    {
      "cell_type": "markdown",
      "source": [
        "We obtain \n",
        "<ul>\n",
        "<li>r = 1, meaning that if both players play perfectly, the first player to play can always win</li>\n",
        "<li> r = -1, means that the first player will always lose</li>\n",
        "<li> r = 0, means that the match will either draw, or the search was not deep enough\n",
        "</ul>"
      ],
      "metadata": {
        "id": "0gckCiv-rSUk"
      }
    },
    {
      "cell_type": "markdown",
      "source": [
        "a. Using Iterative Deepening"
      ],
      "metadata": {
        "id": "3BDcl4bgofKJ"
      }
    },
    {
      "cell_type": "code",
      "source": [
        "from easyAI import solve_with_iterative_deepening\n",
        "r,d,m = solve_with_iterative_deepening(\n",
        "    game=TicTacToe(),\n",
        "    ai_depths=range(2,10),\n",
        "    win_score=100\n",
        ")\n",
        "print(\"\\nr = %d\" % r)"
      ],
      "outputs": [
        {
          "output_type": "stream",
          "name": "stdout",
          "text": "d:2, a:0, m:1\nd:3, a:0, m:1\nd:4, a:0, m:1\nd:5, a:0, m:1\nd:6, a:0, m:1\nd:7, a:0, m:1\nd:8, a:0, m:1\nd:9, a:0, m:1\n\nr = 0\n"
        }
      ],
      "execution_count": 43,
      "metadata": {
        "colab": {
          "base_uri": "https://localhost:8080/"
        },
        "id": "PL3USkx6gdS3",
        "outputId": "6ba7bf94-5137-4177-846b-84a3c6e585e7"
      }
    },
    {
      "cell_type": "markdown",
      "source": [
        "\n",
        "d=10, which means that the wins will be in ten moves (i.e. 5 moves per player) or less, and m='3', which indicates that the first player’s first move should be '3'."
      ],
      "metadata": {
        "id": "4V38uLuDlLQ4"
      }
    },
    {
      "cell_type": "markdown",
      "source": [
        "The result r = 0 implies that if the first player plays perfectly the outcome will most likely be a draw"
      ],
      "metadata": {
        "id": "Ur77YTUlu_Nm"
      }
    },
    {
      "cell_type": "markdown",
      "source": [
        "b. Using Depth First Search"
      ],
      "metadata": {
        "id": "Eyu2CsI6ok2y"
      }
    },
    {
      "cell_type": "code",
      "source": [
        "from easyAI import solve_with_depth_first_search\n",
        "r = solve_with_depth_first_search(\n",
        "    game=TicTacToe(),\n",
        "    maxdepth = 10,\n",
        "    win_score=100\n",
        ")\n",
        "print(\"\\nr = %d\" % r)"
      ],
      "outputs": [
        {
          "output_type": "stream",
          "name": "stdout",
          "text": "\nr = 0\n"
        }
      ],
      "execution_count": 44,
      "metadata": {
        "colab": {
          "base_uri": "https://localhost:8080/"
        },
        "id": "MZFR6dNChoxc",
        "outputId": "c00b84d6-a484-444e-fdaa-ca18c1fd3b8b"
      }
    },
    {
      "cell_type": "markdown",
      "source": [
        "Solves a game using a depth-first search i.e, the game is explored until endgames are reached."
      ],
      "metadata": {
        "id": "1IBfFnrwoqMZ"
      }
    },
    {
      "cell_type": "markdown",
      "source": [
        "The result r = 0 implies that if the first player plays perfectly the outcome will most likely be a draw"
      ],
      "metadata": {
        "id": "8QJPoN76vrWF"
      }
    },
    {
      "cell_type": "markdown",
      "source": [
        "<h2>Conclusion:"
      ],
      "metadata": {
        "id": "yOpJt9-P9tb4"
      }
    },
    {
      "cell_type": "markdown",
      "source": [
        "*Depth First Search* algorithm can be faster but less informative than *Information Deepening*,<br> as it does not provide ‘optimal’ strategies like shortest path to the victory"
      ],
      "metadata": {
        "id": "Lb6cRliP9XM2"
      }
    },
    {
      "cell_type": "code",
      "source": [],
      "outputs": [],
      "execution_count": 44,
      "metadata": {
        "id": "4Z8irCI49k-U"
      }
    }
  ],
  "metadata": {
    "colab": {
      "provenance": []
    },
    "kernelspec": {
      "name": "python",
      "language": "python",
      "display_name": "Pyolite (preview)"
    },
    "language_info": {
      "codemirror_mode": {
        "name": "python",
        "version": 3
      },
      "file_extension": ".py",
      "mimetype": "text/x-python",
      "name": "python",
      "nbconvert_exporter": "python",
      "pygments_lexer": "ipython3",
      "version": "3.8"
    },
    "kernel_info": {
      "name": "python"
    },
    "nteract": {
      "version": "nteract-front-end@1.0.0"
    }
  },
  "nbformat": 4,
  "nbformat_minor": 0
}