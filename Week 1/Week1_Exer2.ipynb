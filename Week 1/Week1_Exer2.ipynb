{
  "nbformat": 4,
  "nbformat_minor": 0,
  "metadata": {
    "colab": {
      "provenance": []
    },
    "kernelspec": {
      "name": "python3",
      "display_name": "Python 3"
    },
    "language_info": {
      "name": "python"
    }
  },
  "cells": [
    {
      "cell_type": "markdown",
      "source": [
        "Reg No.: 200968008<br>\n",
        "Name: Aaron Dsouza<br>\n",
        "<h1><b>Representational Learning using Autoencoders</b></h1>"
      ],
      "metadata": {
        "id": "DF5XcaxtZG7W"
      }
    },
    {
      "cell_type": "markdown",
      "source": [
        "#Train an autoencoder to detect anomalies usingthe ECG5000 dataset"
      ],
      "metadata": {
        "id": "EP0D6CiV0SoT"
      }
    },
    {
      "cell_type": "code",
      "execution_count": 378,
      "metadata": {
        "id": "JwURenDtib7-"
      },
      "outputs": [],
      "source": [
        "# Importing Libraries\n",
        "import pandas as pd\n",
        "import numpy as np\n",
        "import matplotlib.pyplot as plt\n",
        "\n",
        "import tensorflow as tf\n",
        "from tensorflow import keras\n",
        "from tensorflow.keras.models import Model\n",
        "from sklearn.preprocessing import MinMaxScaler\n",
        "from sklearn.metrics import accuracy_score, precision_score, recall_score\n",
        "from sklearn.model_selection import train_test_split"
      ]
    },
    {
      "cell_type": "markdown",
      "source": [
        "MetaData<br>\n",
        "Here the Target Column indicates <br>\n",
        "0 = anomaly<br>\n",
        "1 = normal"
      ],
      "metadata": {
        "id": "kCCvgN0Zj_dI"
      }
    },
    {
      "cell_type": "code",
      "source": [
        "path = 'http://storage.googleapis.com/download.tensorflow.org/data/ecg.csv'\n",
        "df = pd.read_csv(path, header=None)\n",
        "df.head()"
      ],
      "metadata": {
        "colab": {
          "base_uri": "https://localhost:8080/",
          "height": 299
        },
        "id": "VXMRb58yijdv",
        "outputId": "47126a96-b7ab-467e-f18f-4e1bff6c8b0b"
      },
      "execution_count": 379,
      "outputs": [
        {
          "output_type": "execute_result",
          "data": {
            "text/plain": [
              "        0         1         2         3         4         5         6    \\\n",
              "0 -0.112522 -2.827204 -3.773897 -4.349751 -4.376041 -3.474986 -2.181408   \n",
              "1 -1.100878 -3.996840 -4.285843 -4.506579 -4.022377 -3.234368 -1.566126   \n",
              "2 -0.567088 -2.593450 -3.874230 -4.584095 -4.187449 -3.151462 -1.742940   \n",
              "3  0.490473 -1.914407 -3.616364 -4.318823 -4.268016 -3.881110 -2.993280   \n",
              "4  0.800232 -0.874252 -2.384761 -3.973292 -4.338224 -3.802422 -2.534510   \n",
              "\n",
              "        7         8         9    ...       131       132       133       134  \\\n",
              "0 -1.818286 -1.250522 -0.477492  ...  0.792168  0.933541  0.796958  0.578621   \n",
              "1 -0.992258 -0.754680  0.042321  ...  0.538356  0.656881  0.787490  0.724046   \n",
              "2 -1.490659 -1.183580 -0.394229  ...  0.886073  0.531452  0.311377 -0.021919   \n",
              "3 -1.671131 -1.333884 -0.965629  ...  0.350816  0.499111  0.600345  0.842069   \n",
              "4 -1.783423 -1.594450 -0.753199  ...  1.148884  0.958434  1.059025  1.371682   \n",
              "\n",
              "        135       136       137       138       139  140  \n",
              "0  0.257740  0.228077  0.123431  0.925286  0.193137  1.0  \n",
              "1  0.555784  0.476333  0.773820  1.119621 -1.436250  1.0  \n",
              "2 -0.713683 -0.532197  0.321097  0.904227 -0.421797  1.0  \n",
              "3  0.952074  0.990133  1.086798  1.403011 -0.383564  1.0  \n",
              "4  1.277392  0.960304  0.971020  1.614392  1.421456  1.0  \n",
              "\n",
              "[5 rows x 141 columns]"
            ],
            "text/html": [
              "\n",
              "  <div id=\"df-3c9e49f4-318e-40c7-affd-3581f190add1\">\n",
              "    <div class=\"colab-df-container\">\n",
              "      <div>\n",
              "<style scoped>\n",
              "    .dataframe tbody tr th:only-of-type {\n",
              "        vertical-align: middle;\n",
              "    }\n",
              "\n",
              "    .dataframe tbody tr th {\n",
              "        vertical-align: top;\n",
              "    }\n",
              "\n",
              "    .dataframe thead th {\n",
              "        text-align: right;\n",
              "    }\n",
              "</style>\n",
              "<table border=\"1\" class=\"dataframe\">\n",
              "  <thead>\n",
              "    <tr style=\"text-align: right;\">\n",
              "      <th></th>\n",
              "      <th>0</th>\n",
              "      <th>1</th>\n",
              "      <th>2</th>\n",
              "      <th>3</th>\n",
              "      <th>4</th>\n",
              "      <th>5</th>\n",
              "      <th>6</th>\n",
              "      <th>7</th>\n",
              "      <th>8</th>\n",
              "      <th>9</th>\n",
              "      <th>...</th>\n",
              "      <th>131</th>\n",
              "      <th>132</th>\n",
              "      <th>133</th>\n",
              "      <th>134</th>\n",
              "      <th>135</th>\n",
              "      <th>136</th>\n",
              "      <th>137</th>\n",
              "      <th>138</th>\n",
              "      <th>139</th>\n",
              "      <th>140</th>\n",
              "    </tr>\n",
              "  </thead>\n",
              "  <tbody>\n",
              "    <tr>\n",
              "      <th>0</th>\n",
              "      <td>-0.112522</td>\n",
              "      <td>-2.827204</td>\n",
              "      <td>-3.773897</td>\n",
              "      <td>-4.349751</td>\n",
              "      <td>-4.376041</td>\n",
              "      <td>-3.474986</td>\n",
              "      <td>-2.181408</td>\n",
              "      <td>-1.818286</td>\n",
              "      <td>-1.250522</td>\n",
              "      <td>-0.477492</td>\n",
              "      <td>...</td>\n",
              "      <td>0.792168</td>\n",
              "      <td>0.933541</td>\n",
              "      <td>0.796958</td>\n",
              "      <td>0.578621</td>\n",
              "      <td>0.257740</td>\n",
              "      <td>0.228077</td>\n",
              "      <td>0.123431</td>\n",
              "      <td>0.925286</td>\n",
              "      <td>0.193137</td>\n",
              "      <td>1.0</td>\n",
              "    </tr>\n",
              "    <tr>\n",
              "      <th>1</th>\n",
              "      <td>-1.100878</td>\n",
              "      <td>-3.996840</td>\n",
              "      <td>-4.285843</td>\n",
              "      <td>-4.506579</td>\n",
              "      <td>-4.022377</td>\n",
              "      <td>-3.234368</td>\n",
              "      <td>-1.566126</td>\n",
              "      <td>-0.992258</td>\n",
              "      <td>-0.754680</td>\n",
              "      <td>0.042321</td>\n",
              "      <td>...</td>\n",
              "      <td>0.538356</td>\n",
              "      <td>0.656881</td>\n",
              "      <td>0.787490</td>\n",
              "      <td>0.724046</td>\n",
              "      <td>0.555784</td>\n",
              "      <td>0.476333</td>\n",
              "      <td>0.773820</td>\n",
              "      <td>1.119621</td>\n",
              "      <td>-1.436250</td>\n",
              "      <td>1.0</td>\n",
              "    </tr>\n",
              "    <tr>\n",
              "      <th>2</th>\n",
              "      <td>-0.567088</td>\n",
              "      <td>-2.593450</td>\n",
              "      <td>-3.874230</td>\n",
              "      <td>-4.584095</td>\n",
              "      <td>-4.187449</td>\n",
              "      <td>-3.151462</td>\n",
              "      <td>-1.742940</td>\n",
              "      <td>-1.490659</td>\n",
              "      <td>-1.183580</td>\n",
              "      <td>-0.394229</td>\n",
              "      <td>...</td>\n",
              "      <td>0.886073</td>\n",
              "      <td>0.531452</td>\n",
              "      <td>0.311377</td>\n",
              "      <td>-0.021919</td>\n",
              "      <td>-0.713683</td>\n",
              "      <td>-0.532197</td>\n",
              "      <td>0.321097</td>\n",
              "      <td>0.904227</td>\n",
              "      <td>-0.421797</td>\n",
              "      <td>1.0</td>\n",
              "    </tr>\n",
              "    <tr>\n",
              "      <th>3</th>\n",
              "      <td>0.490473</td>\n",
              "      <td>-1.914407</td>\n",
              "      <td>-3.616364</td>\n",
              "      <td>-4.318823</td>\n",
              "      <td>-4.268016</td>\n",
              "      <td>-3.881110</td>\n",
              "      <td>-2.993280</td>\n",
              "      <td>-1.671131</td>\n",
              "      <td>-1.333884</td>\n",
              "      <td>-0.965629</td>\n",
              "      <td>...</td>\n",
              "      <td>0.350816</td>\n",
              "      <td>0.499111</td>\n",
              "      <td>0.600345</td>\n",
              "      <td>0.842069</td>\n",
              "      <td>0.952074</td>\n",
              "      <td>0.990133</td>\n",
              "      <td>1.086798</td>\n",
              "      <td>1.403011</td>\n",
              "      <td>-0.383564</td>\n",
              "      <td>1.0</td>\n",
              "    </tr>\n",
              "    <tr>\n",
              "      <th>4</th>\n",
              "      <td>0.800232</td>\n",
              "      <td>-0.874252</td>\n",
              "      <td>-2.384761</td>\n",
              "      <td>-3.973292</td>\n",
              "      <td>-4.338224</td>\n",
              "      <td>-3.802422</td>\n",
              "      <td>-2.534510</td>\n",
              "      <td>-1.783423</td>\n",
              "      <td>-1.594450</td>\n",
              "      <td>-0.753199</td>\n",
              "      <td>...</td>\n",
              "      <td>1.148884</td>\n",
              "      <td>0.958434</td>\n",
              "      <td>1.059025</td>\n",
              "      <td>1.371682</td>\n",
              "      <td>1.277392</td>\n",
              "      <td>0.960304</td>\n",
              "      <td>0.971020</td>\n",
              "      <td>1.614392</td>\n",
              "      <td>1.421456</td>\n",
              "      <td>1.0</td>\n",
              "    </tr>\n",
              "  </tbody>\n",
              "</table>\n",
              "<p>5 rows × 141 columns</p>\n",
              "</div>\n",
              "      <button class=\"colab-df-convert\" onclick=\"convertToInteractive('df-3c9e49f4-318e-40c7-affd-3581f190add1')\"\n",
              "              title=\"Convert this dataframe to an interactive table.\"\n",
              "              style=\"display:none;\">\n",
              "        \n",
              "  <svg xmlns=\"http://www.w3.org/2000/svg\" height=\"24px\"viewBox=\"0 0 24 24\"\n",
              "       width=\"24px\">\n",
              "    <path d=\"M0 0h24v24H0V0z\" fill=\"none\"/>\n",
              "    <path d=\"M18.56 5.44l.94 2.06.94-2.06 2.06-.94-2.06-.94-.94-2.06-.94 2.06-2.06.94zm-11 1L8.5 8.5l.94-2.06 2.06-.94-2.06-.94L8.5 2.5l-.94 2.06-2.06.94zm10 10l.94 2.06.94-2.06 2.06-.94-2.06-.94-.94-2.06-.94 2.06-2.06.94z\"/><path d=\"M17.41 7.96l-1.37-1.37c-.4-.4-.92-.59-1.43-.59-.52 0-1.04.2-1.43.59L10.3 9.45l-7.72 7.72c-.78.78-.78 2.05 0 2.83L4 21.41c.39.39.9.59 1.41.59.51 0 1.02-.2 1.41-.59l7.78-7.78 2.81-2.81c.8-.78.8-2.07 0-2.86zM5.41 20L4 18.59l7.72-7.72 1.47 1.35L5.41 20z\"/>\n",
              "  </svg>\n",
              "      </button>\n",
              "      \n",
              "  <style>\n",
              "    .colab-df-container {\n",
              "      display:flex;\n",
              "      flex-wrap:wrap;\n",
              "      gap: 12px;\n",
              "    }\n",
              "\n",
              "    .colab-df-convert {\n",
              "      background-color: #E8F0FE;\n",
              "      border: none;\n",
              "      border-radius: 50%;\n",
              "      cursor: pointer;\n",
              "      display: none;\n",
              "      fill: #1967D2;\n",
              "      height: 32px;\n",
              "      padding: 0 0 0 0;\n",
              "      width: 32px;\n",
              "    }\n",
              "\n",
              "    .colab-df-convert:hover {\n",
              "      background-color: #E2EBFA;\n",
              "      box-shadow: 0px 1px 2px rgba(60, 64, 67, 0.3), 0px 1px 3px 1px rgba(60, 64, 67, 0.15);\n",
              "      fill: #174EA6;\n",
              "    }\n",
              "\n",
              "    [theme=dark] .colab-df-convert {\n",
              "      background-color: #3B4455;\n",
              "      fill: #D2E3FC;\n",
              "    }\n",
              "\n",
              "    [theme=dark] .colab-df-convert:hover {\n",
              "      background-color: #434B5C;\n",
              "      box-shadow: 0px 1px 3px 1px rgba(0, 0, 0, 0.15);\n",
              "      filter: drop-shadow(0px 1px 2px rgba(0, 0, 0, 0.3));\n",
              "      fill: #FFFFFF;\n",
              "    }\n",
              "  </style>\n",
              "\n",
              "      <script>\n",
              "        const buttonEl =\n",
              "          document.querySelector('#df-3c9e49f4-318e-40c7-affd-3581f190add1 button.colab-df-convert');\n",
              "        buttonEl.style.display =\n",
              "          google.colab.kernel.accessAllowed ? 'block' : 'none';\n",
              "\n",
              "        async function convertToInteractive(key) {\n",
              "          const element = document.querySelector('#df-3c9e49f4-318e-40c7-affd-3581f190add1');\n",
              "          const dataTable =\n",
              "            await google.colab.kernel.invokeFunction('convertToInteractive',\n",
              "                                                     [key], {});\n",
              "          if (!dataTable) return;\n",
              "\n",
              "          const docLinkHtml = 'Like what you see? Visit the ' +\n",
              "            '<a target=\"_blank\" href=https://colab.research.google.com/notebooks/data_table.ipynb>data table notebook</a>'\n",
              "            + ' to learn more about interactive tables.';\n",
              "          element.innerHTML = '';\n",
              "          dataTable['output_type'] = 'display_data';\n",
              "          await google.colab.output.renderOutput(dataTable, element);\n",
              "          const docLink = document.createElement('div');\n",
              "          docLink.innerHTML = docLinkHtml;\n",
              "          element.appendChild(docLink);\n",
              "        }\n",
              "      </script>\n",
              "    </div>\n",
              "  </div>\n",
              "  "
            ]
          },
          "metadata": {},
          "execution_count": 379
        }
      ]
    },
    {
      "cell_type": "code",
      "source": [
        "df.info()"
      ],
      "metadata": {
        "colab": {
          "base_uri": "https://localhost:8080/"
        },
        "id": "jFkML-xx9yVc",
        "outputId": "10bea540-782f-473e-ed10-06f1c89e5893"
      },
      "execution_count": 380,
      "outputs": [
        {
          "output_type": "stream",
          "name": "stdout",
          "text": [
            "<class 'pandas.core.frame.DataFrame'>\n",
            "RangeIndex: 4998 entries, 0 to 4997\n",
            "Columns: 141 entries, 0 to 140\n",
            "dtypes: float64(141)\n",
            "memory usage: 5.4 MB\n"
          ]
        }
      ]
    },
    {
      "cell_type": "code",
      "source": [
        "print(\"Shape: \"+str(df.shape))"
      ],
      "metadata": {
        "colab": {
          "base_uri": "https://localhost:8080/"
        },
        "id": "h_TfmbOCjXQg",
        "outputId": "e8ac33c6-7ca7-4b32-8f52-ee5195723701"
      },
      "execution_count": 381,
      "outputs": [
        {
          "output_type": "stream",
          "name": "stdout",
          "text": [
            "Shape: (4998, 141)\n"
          ]
        }
      ]
    },
    {
      "cell_type": "markdown",
      "source": [
        "**Separating the dataset into features and target**"
      ],
      "metadata": {
        "id": "-rqCzAAGDnSc"
      }
    },
    {
      "cell_type": "code",
      "source": [
        "feat = df.iloc[:,:-1]\n",
        "feat"
      ],
      "metadata": {
        "colab": {
          "base_uri": "https://localhost:8080/",
          "height": 488
        },
        "id": "woC14CbTkfuh",
        "outputId": "ff258143-4d1e-4417-f07a-8870435a635a"
      },
      "execution_count": 382,
      "outputs": [
        {
          "output_type": "execute_result",
          "data": {
            "text/plain": [
              "           0         1         2         3         4         5         6    \\\n",
              "0    -0.112522 -2.827204 -3.773897 -4.349751 -4.376041 -3.474986 -2.181408   \n",
              "1    -1.100878 -3.996840 -4.285843 -4.506579 -4.022377 -3.234368 -1.566126   \n",
              "2    -0.567088 -2.593450 -3.874230 -4.584095 -4.187449 -3.151462 -1.742940   \n",
              "3     0.490473 -1.914407 -3.616364 -4.318823 -4.268016 -3.881110 -2.993280   \n",
              "4     0.800232 -0.874252 -2.384761 -3.973292 -4.338224 -3.802422 -2.534510   \n",
              "...        ...       ...       ...       ...       ...       ...       ...   \n",
              "4993  0.608558 -0.335651 -0.990948 -1.784153 -2.626145 -2.957065 -2.931897   \n",
              "4994 -2.060402 -2.860116 -3.405074 -3.748719 -3.513561 -3.006545 -2.234850   \n",
              "4995 -1.122969 -2.252925 -2.867628 -3.358605 -3.167849 -2.638360 -1.664162   \n",
              "4996 -0.547705 -1.889545 -2.839779 -3.457912 -3.929149 -3.966026 -3.492560   \n",
              "4997 -1.351779 -2.209006 -2.520225 -3.061475 -3.065141 -3.030739 -2.622720   \n",
              "\n",
              "           7         8         9    ...       130       131       132  \\\n",
              "0    -1.818286 -1.250522 -0.477492  ...  0.160348  0.792168  0.933541   \n",
              "1    -0.992258 -0.754680  0.042321  ...  0.560327  0.538356  0.656881   \n",
              "2    -1.490659 -1.183580 -0.394229  ...  1.284825  0.886073  0.531452   \n",
              "3    -1.671131 -1.333884 -0.965629  ...  0.491173  0.350816  0.499111   \n",
              "4    -1.783423 -1.594450 -0.753199  ...  0.966606  1.148884  0.958434   \n",
              "...        ...       ...       ...  ...       ...       ...       ...   \n",
              "4993 -2.664816 -2.090137 -1.461841  ...  1.513738  1.757705  2.291923   \n",
              "4994 -1.593270 -1.075279 -0.976047  ...  1.123739  1.388947  2.079675   \n",
              "4995 -0.935655 -0.866953 -0.645363  ...  0.205543 -0.472419 -1.310147   \n",
              "4996 -2.695270 -1.849691 -1.374321  ...  1.218185  1.258419  1.907530   \n",
              "4997 -2.044092 -1.295874 -0.733839  ... -0.896575 -1.512234 -2.076075   \n",
              "\n",
              "           133       134       135       136       137       138       139  \n",
              "0     0.796958  0.578621  0.257740  0.228077  0.123431  0.925286  0.193137  \n",
              "1     0.787490  0.724046  0.555784  0.476333  0.773820  1.119621 -1.436250  \n",
              "2     0.311377 -0.021919 -0.713683 -0.532197  0.321097  0.904227 -0.421797  \n",
              "3     0.600345  0.842069  0.952074  0.990133  1.086798  1.403011 -0.383564  \n",
              "4     1.059025  1.371682  1.277392  0.960304  0.971020  1.614392  1.421456  \n",
              "...        ...       ...       ...       ...       ...       ...       ...  \n",
              "4993  2.704595  2.451519  2.017396  1.704358  1.688542  1.629593  1.342651  \n",
              "4994  2.433375  2.159484  1.819747  1.534767  1.696818  1.483832  1.047612  \n",
              "4995 -2.029521 -3.221294 -4.176790 -4.009720 -2.874136 -2.008369 -1.808334  \n",
              "4996  2.280888  1.895242  1.437702  1.193433  1.261335  1.150449  0.804932  \n",
              "4997 -2.586042 -3.322799 -3.627311 -3.437038 -2.260023 -1.577823 -0.684531  \n",
              "\n",
              "[4998 rows x 140 columns]"
            ],
            "text/html": [
              "\n",
              "  <div id=\"df-b885f967-9c42-49bb-b6f6-2ebf26577c79\">\n",
              "    <div class=\"colab-df-container\">\n",
              "      <div>\n",
              "<style scoped>\n",
              "    .dataframe tbody tr th:only-of-type {\n",
              "        vertical-align: middle;\n",
              "    }\n",
              "\n",
              "    .dataframe tbody tr th {\n",
              "        vertical-align: top;\n",
              "    }\n",
              "\n",
              "    .dataframe thead th {\n",
              "        text-align: right;\n",
              "    }\n",
              "</style>\n",
              "<table border=\"1\" class=\"dataframe\">\n",
              "  <thead>\n",
              "    <tr style=\"text-align: right;\">\n",
              "      <th></th>\n",
              "      <th>0</th>\n",
              "      <th>1</th>\n",
              "      <th>2</th>\n",
              "      <th>3</th>\n",
              "      <th>4</th>\n",
              "      <th>5</th>\n",
              "      <th>6</th>\n",
              "      <th>7</th>\n",
              "      <th>8</th>\n",
              "      <th>9</th>\n",
              "      <th>...</th>\n",
              "      <th>130</th>\n",
              "      <th>131</th>\n",
              "      <th>132</th>\n",
              "      <th>133</th>\n",
              "      <th>134</th>\n",
              "      <th>135</th>\n",
              "      <th>136</th>\n",
              "      <th>137</th>\n",
              "      <th>138</th>\n",
              "      <th>139</th>\n",
              "    </tr>\n",
              "  </thead>\n",
              "  <tbody>\n",
              "    <tr>\n",
              "      <th>0</th>\n",
              "      <td>-0.112522</td>\n",
              "      <td>-2.827204</td>\n",
              "      <td>-3.773897</td>\n",
              "      <td>-4.349751</td>\n",
              "      <td>-4.376041</td>\n",
              "      <td>-3.474986</td>\n",
              "      <td>-2.181408</td>\n",
              "      <td>-1.818286</td>\n",
              "      <td>-1.250522</td>\n",
              "      <td>-0.477492</td>\n",
              "      <td>...</td>\n",
              "      <td>0.160348</td>\n",
              "      <td>0.792168</td>\n",
              "      <td>0.933541</td>\n",
              "      <td>0.796958</td>\n",
              "      <td>0.578621</td>\n",
              "      <td>0.257740</td>\n",
              "      <td>0.228077</td>\n",
              "      <td>0.123431</td>\n",
              "      <td>0.925286</td>\n",
              "      <td>0.193137</td>\n",
              "    </tr>\n",
              "    <tr>\n",
              "      <th>1</th>\n",
              "      <td>-1.100878</td>\n",
              "      <td>-3.996840</td>\n",
              "      <td>-4.285843</td>\n",
              "      <td>-4.506579</td>\n",
              "      <td>-4.022377</td>\n",
              "      <td>-3.234368</td>\n",
              "      <td>-1.566126</td>\n",
              "      <td>-0.992258</td>\n",
              "      <td>-0.754680</td>\n",
              "      <td>0.042321</td>\n",
              "      <td>...</td>\n",
              "      <td>0.560327</td>\n",
              "      <td>0.538356</td>\n",
              "      <td>0.656881</td>\n",
              "      <td>0.787490</td>\n",
              "      <td>0.724046</td>\n",
              "      <td>0.555784</td>\n",
              "      <td>0.476333</td>\n",
              "      <td>0.773820</td>\n",
              "      <td>1.119621</td>\n",
              "      <td>-1.436250</td>\n",
              "    </tr>\n",
              "    <tr>\n",
              "      <th>2</th>\n",
              "      <td>-0.567088</td>\n",
              "      <td>-2.593450</td>\n",
              "      <td>-3.874230</td>\n",
              "      <td>-4.584095</td>\n",
              "      <td>-4.187449</td>\n",
              "      <td>-3.151462</td>\n",
              "      <td>-1.742940</td>\n",
              "      <td>-1.490659</td>\n",
              "      <td>-1.183580</td>\n",
              "      <td>-0.394229</td>\n",
              "      <td>...</td>\n",
              "      <td>1.284825</td>\n",
              "      <td>0.886073</td>\n",
              "      <td>0.531452</td>\n",
              "      <td>0.311377</td>\n",
              "      <td>-0.021919</td>\n",
              "      <td>-0.713683</td>\n",
              "      <td>-0.532197</td>\n",
              "      <td>0.321097</td>\n",
              "      <td>0.904227</td>\n",
              "      <td>-0.421797</td>\n",
              "    </tr>\n",
              "    <tr>\n",
              "      <th>3</th>\n",
              "      <td>0.490473</td>\n",
              "      <td>-1.914407</td>\n",
              "      <td>-3.616364</td>\n",
              "      <td>-4.318823</td>\n",
              "      <td>-4.268016</td>\n",
              "      <td>-3.881110</td>\n",
              "      <td>-2.993280</td>\n",
              "      <td>-1.671131</td>\n",
              "      <td>-1.333884</td>\n",
              "      <td>-0.965629</td>\n",
              "      <td>...</td>\n",
              "      <td>0.491173</td>\n",
              "      <td>0.350816</td>\n",
              "      <td>0.499111</td>\n",
              "      <td>0.600345</td>\n",
              "      <td>0.842069</td>\n",
              "      <td>0.952074</td>\n",
              "      <td>0.990133</td>\n",
              "      <td>1.086798</td>\n",
              "      <td>1.403011</td>\n",
              "      <td>-0.383564</td>\n",
              "    </tr>\n",
              "    <tr>\n",
              "      <th>4</th>\n",
              "      <td>0.800232</td>\n",
              "      <td>-0.874252</td>\n",
              "      <td>-2.384761</td>\n",
              "      <td>-3.973292</td>\n",
              "      <td>-4.338224</td>\n",
              "      <td>-3.802422</td>\n",
              "      <td>-2.534510</td>\n",
              "      <td>-1.783423</td>\n",
              "      <td>-1.594450</td>\n",
              "      <td>-0.753199</td>\n",
              "      <td>...</td>\n",
              "      <td>0.966606</td>\n",
              "      <td>1.148884</td>\n",
              "      <td>0.958434</td>\n",
              "      <td>1.059025</td>\n",
              "      <td>1.371682</td>\n",
              "      <td>1.277392</td>\n",
              "      <td>0.960304</td>\n",
              "      <td>0.971020</td>\n",
              "      <td>1.614392</td>\n",
              "      <td>1.421456</td>\n",
              "    </tr>\n",
              "    <tr>\n",
              "      <th>...</th>\n",
              "      <td>...</td>\n",
              "      <td>...</td>\n",
              "      <td>...</td>\n",
              "      <td>...</td>\n",
              "      <td>...</td>\n",
              "      <td>...</td>\n",
              "      <td>...</td>\n",
              "      <td>...</td>\n",
              "      <td>...</td>\n",
              "      <td>...</td>\n",
              "      <td>...</td>\n",
              "      <td>...</td>\n",
              "      <td>...</td>\n",
              "      <td>...</td>\n",
              "      <td>...</td>\n",
              "      <td>...</td>\n",
              "      <td>...</td>\n",
              "      <td>...</td>\n",
              "      <td>...</td>\n",
              "      <td>...</td>\n",
              "      <td>...</td>\n",
              "    </tr>\n",
              "    <tr>\n",
              "      <th>4993</th>\n",
              "      <td>0.608558</td>\n",
              "      <td>-0.335651</td>\n",
              "      <td>-0.990948</td>\n",
              "      <td>-1.784153</td>\n",
              "      <td>-2.626145</td>\n",
              "      <td>-2.957065</td>\n",
              "      <td>-2.931897</td>\n",
              "      <td>-2.664816</td>\n",
              "      <td>-2.090137</td>\n",
              "      <td>-1.461841</td>\n",
              "      <td>...</td>\n",
              "      <td>1.513738</td>\n",
              "      <td>1.757705</td>\n",
              "      <td>2.291923</td>\n",
              "      <td>2.704595</td>\n",
              "      <td>2.451519</td>\n",
              "      <td>2.017396</td>\n",
              "      <td>1.704358</td>\n",
              "      <td>1.688542</td>\n",
              "      <td>1.629593</td>\n",
              "      <td>1.342651</td>\n",
              "    </tr>\n",
              "    <tr>\n",
              "      <th>4994</th>\n",
              "      <td>-2.060402</td>\n",
              "      <td>-2.860116</td>\n",
              "      <td>-3.405074</td>\n",
              "      <td>-3.748719</td>\n",
              "      <td>-3.513561</td>\n",
              "      <td>-3.006545</td>\n",
              "      <td>-2.234850</td>\n",
              "      <td>-1.593270</td>\n",
              "      <td>-1.075279</td>\n",
              "      <td>-0.976047</td>\n",
              "      <td>...</td>\n",
              "      <td>1.123739</td>\n",
              "      <td>1.388947</td>\n",
              "      <td>2.079675</td>\n",
              "      <td>2.433375</td>\n",
              "      <td>2.159484</td>\n",
              "      <td>1.819747</td>\n",
              "      <td>1.534767</td>\n",
              "      <td>1.696818</td>\n",
              "      <td>1.483832</td>\n",
              "      <td>1.047612</td>\n",
              "    </tr>\n",
              "    <tr>\n",
              "      <th>4995</th>\n",
              "      <td>-1.122969</td>\n",
              "      <td>-2.252925</td>\n",
              "      <td>-2.867628</td>\n",
              "      <td>-3.358605</td>\n",
              "      <td>-3.167849</td>\n",
              "      <td>-2.638360</td>\n",
              "      <td>-1.664162</td>\n",
              "      <td>-0.935655</td>\n",
              "      <td>-0.866953</td>\n",
              "      <td>-0.645363</td>\n",
              "      <td>...</td>\n",
              "      <td>0.205543</td>\n",
              "      <td>-0.472419</td>\n",
              "      <td>-1.310147</td>\n",
              "      <td>-2.029521</td>\n",
              "      <td>-3.221294</td>\n",
              "      <td>-4.176790</td>\n",
              "      <td>-4.009720</td>\n",
              "      <td>-2.874136</td>\n",
              "      <td>-2.008369</td>\n",
              "      <td>-1.808334</td>\n",
              "    </tr>\n",
              "    <tr>\n",
              "      <th>4996</th>\n",
              "      <td>-0.547705</td>\n",
              "      <td>-1.889545</td>\n",
              "      <td>-2.839779</td>\n",
              "      <td>-3.457912</td>\n",
              "      <td>-3.929149</td>\n",
              "      <td>-3.966026</td>\n",
              "      <td>-3.492560</td>\n",
              "      <td>-2.695270</td>\n",
              "      <td>-1.849691</td>\n",
              "      <td>-1.374321</td>\n",
              "      <td>...</td>\n",
              "      <td>1.218185</td>\n",
              "      <td>1.258419</td>\n",
              "      <td>1.907530</td>\n",
              "      <td>2.280888</td>\n",
              "      <td>1.895242</td>\n",
              "      <td>1.437702</td>\n",
              "      <td>1.193433</td>\n",
              "      <td>1.261335</td>\n",
              "      <td>1.150449</td>\n",
              "      <td>0.804932</td>\n",
              "    </tr>\n",
              "    <tr>\n",
              "      <th>4997</th>\n",
              "      <td>-1.351779</td>\n",
              "      <td>-2.209006</td>\n",
              "      <td>-2.520225</td>\n",
              "      <td>-3.061475</td>\n",
              "      <td>-3.065141</td>\n",
              "      <td>-3.030739</td>\n",
              "      <td>-2.622720</td>\n",
              "      <td>-2.044092</td>\n",
              "      <td>-1.295874</td>\n",
              "      <td>-0.733839</td>\n",
              "      <td>...</td>\n",
              "      <td>-0.896575</td>\n",
              "      <td>-1.512234</td>\n",
              "      <td>-2.076075</td>\n",
              "      <td>-2.586042</td>\n",
              "      <td>-3.322799</td>\n",
              "      <td>-3.627311</td>\n",
              "      <td>-3.437038</td>\n",
              "      <td>-2.260023</td>\n",
              "      <td>-1.577823</td>\n",
              "      <td>-0.684531</td>\n",
              "    </tr>\n",
              "  </tbody>\n",
              "</table>\n",
              "<p>4998 rows × 140 columns</p>\n",
              "</div>\n",
              "      <button class=\"colab-df-convert\" onclick=\"convertToInteractive('df-b885f967-9c42-49bb-b6f6-2ebf26577c79')\"\n",
              "              title=\"Convert this dataframe to an interactive table.\"\n",
              "              style=\"display:none;\">\n",
              "        \n",
              "  <svg xmlns=\"http://www.w3.org/2000/svg\" height=\"24px\"viewBox=\"0 0 24 24\"\n",
              "       width=\"24px\">\n",
              "    <path d=\"M0 0h24v24H0V0z\" fill=\"none\"/>\n",
              "    <path d=\"M18.56 5.44l.94 2.06.94-2.06 2.06-.94-2.06-.94-.94-2.06-.94 2.06-2.06.94zm-11 1L8.5 8.5l.94-2.06 2.06-.94-2.06-.94L8.5 2.5l-.94 2.06-2.06.94zm10 10l.94 2.06.94-2.06 2.06-.94-2.06-.94-.94-2.06-.94 2.06-2.06.94z\"/><path d=\"M17.41 7.96l-1.37-1.37c-.4-.4-.92-.59-1.43-.59-.52 0-1.04.2-1.43.59L10.3 9.45l-7.72 7.72c-.78.78-.78 2.05 0 2.83L4 21.41c.39.39.9.59 1.41.59.51 0 1.02-.2 1.41-.59l7.78-7.78 2.81-2.81c.8-.78.8-2.07 0-2.86zM5.41 20L4 18.59l7.72-7.72 1.47 1.35L5.41 20z\"/>\n",
              "  </svg>\n",
              "      </button>\n",
              "      \n",
              "  <style>\n",
              "    .colab-df-container {\n",
              "      display:flex;\n",
              "      flex-wrap:wrap;\n",
              "      gap: 12px;\n",
              "    }\n",
              "\n",
              "    .colab-df-convert {\n",
              "      background-color: #E8F0FE;\n",
              "      border: none;\n",
              "      border-radius: 50%;\n",
              "      cursor: pointer;\n",
              "      display: none;\n",
              "      fill: #1967D2;\n",
              "      height: 32px;\n",
              "      padding: 0 0 0 0;\n",
              "      width: 32px;\n",
              "    }\n",
              "\n",
              "    .colab-df-convert:hover {\n",
              "      background-color: #E2EBFA;\n",
              "      box-shadow: 0px 1px 2px rgba(60, 64, 67, 0.3), 0px 1px 3px 1px rgba(60, 64, 67, 0.15);\n",
              "      fill: #174EA6;\n",
              "    }\n",
              "\n",
              "    [theme=dark] .colab-df-convert {\n",
              "      background-color: #3B4455;\n",
              "      fill: #D2E3FC;\n",
              "    }\n",
              "\n",
              "    [theme=dark] .colab-df-convert:hover {\n",
              "      background-color: #434B5C;\n",
              "      box-shadow: 0px 1px 3px 1px rgba(0, 0, 0, 0.15);\n",
              "      filter: drop-shadow(0px 1px 2px rgba(0, 0, 0, 0.3));\n",
              "      fill: #FFFFFF;\n",
              "    }\n",
              "  </style>\n",
              "\n",
              "      <script>\n",
              "        const buttonEl =\n",
              "          document.querySelector('#df-b885f967-9c42-49bb-b6f6-2ebf26577c79 button.colab-df-convert');\n",
              "        buttonEl.style.display =\n",
              "          google.colab.kernel.accessAllowed ? 'block' : 'none';\n",
              "\n",
              "        async function convertToInteractive(key) {\n",
              "          const element = document.querySelector('#df-b885f967-9c42-49bb-b6f6-2ebf26577c79');\n",
              "          const dataTable =\n",
              "            await google.colab.kernel.invokeFunction('convertToInteractive',\n",
              "                                                     [key], {});\n",
              "          if (!dataTable) return;\n",
              "\n",
              "          const docLinkHtml = 'Like what you see? Visit the ' +\n",
              "            '<a target=\"_blank\" href=https://colab.research.google.com/notebooks/data_table.ipynb>data table notebook</a>'\n",
              "            + ' to learn more about interactive tables.';\n",
              "          element.innerHTML = '';\n",
              "          dataTable['output_type'] = 'display_data';\n",
              "          await google.colab.output.renderOutput(dataTable, element);\n",
              "          const docLink = document.createElement('div');\n",
              "          docLink.innerHTML = docLinkHtml;\n",
              "          element.appendChild(docLink);\n",
              "        }\n",
              "      </script>\n",
              "    </div>\n",
              "  </div>\n",
              "  "
            ]
          },
          "metadata": {},
          "execution_count": 382
        }
      ]
    },
    {
      "cell_type": "code",
      "source": [
        "target = df.iloc[:,-1]\n",
        "target"
      ],
      "metadata": {
        "colab": {
          "base_uri": "https://localhost:8080/"
        },
        "id": "IjcU-Ni6jxO_",
        "outputId": "d5e493c9-9b82-439a-d842-cdeee3536b30"
      },
      "execution_count": 383,
      "outputs": [
        {
          "output_type": "execute_result",
          "data": {
            "text/plain": [
              "0       1.0\n",
              "1       1.0\n",
              "2       1.0\n",
              "3       1.0\n",
              "4       1.0\n",
              "       ... \n",
              "4993    0.0\n",
              "4994    0.0\n",
              "4995    0.0\n",
              "4996    0.0\n",
              "4997    0.0\n",
              "Name: 140, Length: 4998, dtype: float64"
            ]
          },
          "metadata": {},
          "execution_count": 383
        }
      ]
    },
    {
      "cell_type": "markdown",
      "source": [
        "**Spliting the Data into Train and Test**"
      ],
      "metadata": {
        "id": "VKl7mYwGZ_hJ"
      }
    },
    {
      "cell_type": "code",
      "source": [
        "# Splitting the dataset into train and test\n",
        "x_train, x_test, y_train, y_test = train_test_split(feat, target, test_size=0.2,random_state=22)"
      ],
      "metadata": {
        "id": "m71qEETIk92-"
      },
      "execution_count": 384,
      "outputs": []
    },
    {
      "cell_type": "code",
      "source": [
        "print(\"x_train shape: \" + str(x_train.shape))\n",
        "print(\"x_test shape: \" + str(x_test.shape))"
      ],
      "metadata": {
        "colab": {
          "base_uri": "https://localhost:8080/"
        },
        "id": "fHw-Sg50nD6G",
        "outputId": "945a6829-ce8a-4abb-f011-c9394d2edfac"
      },
      "execution_count": 385,
      "outputs": [
        {
          "output_type": "stream",
          "name": "stdout",
          "text": [
            "x_train shape: (3998, 140)\n",
            "x_test shape: (1000, 140)\n"
          ]
        }
      ]
    },
    {
      "cell_type": "code",
      "source": [
        "# Normalizing the x_train and x_test\n",
        "\n",
        "# Initial Method was using MinMaxScaler for Normalization but it resulting it loss of important features\n",
        "# scaler = MinMaxScaler(feature_range=(0,1))\n",
        "# x_train = scaler.fit_transform(x_train)\n",
        "# x_test = scaler.fit_transform(x_test)\n",
        "\n",
        "x_train = x_train.values\n",
        "x_test = x_test.values\n",
        "y_train = y_train.values\n",
        "y_test = y_test.values\n",
        "\n",
        "min_val = tf.reduce_min(x_train)\n",
        "max_val = tf.reduce_max(x_train)\n",
        "\n",
        "x_train = (x_train - min_val) / (max_val - min_val)\n",
        "x_test = (x_test - min_val) / (max_val - min_val)"
      ],
      "metadata": {
        "id": "oVV-hTSAl_oE"
      },
      "execution_count": 386,
      "outputs": []
    },
    {
      "cell_type": "markdown",
      "source": [
        "**Spliting the Data futher into Normal and Anomaly**"
      ],
      "metadata": {
        "id": "v93u5mWoaF5e"
      }
    },
    {
      "cell_type": "code",
      "source": [
        "# Spitting the data into Normal and Anomaly i.e, based on target\n",
        "train_idx = y_train.astype(bool)\n",
        "test_idx = y_test.astype(bool)\n",
        "\n",
        "# Normal ECG\n",
        "x_train_normal = x_train[train_idx] \n",
        "x_test_normal = x_test[test_idx]\n",
        "\n",
        "# Anomaly ECG\n",
        "x_train_anomaly = x_train[~train_idx]\n",
        "x_test_anomaly = x_test[~test_idx]"
      ],
      "metadata": {
        "id": "CvNONZsiu77K"
      },
      "execution_count": 387,
      "outputs": []
    },
    {
      "cell_type": "markdown",
      "source": [
        "**Visualizing Normal ECG**"
      ],
      "metadata": {
        "id": "Fk6amvaIFFMH"
      }
    },
    {
      "cell_type": "code",
      "source": [
        "plt.grid()\n",
        "plt.plot(np.arange(140), x_train_normal[0])\n",
        "plt.title(\"Normal ECG\")\n",
        "plt.show()"
      ],
      "metadata": {
        "colab": {
          "base_uri": "https://localhost:8080/",
          "height": 281
        },
        "id": "BYsEVainy2Lm",
        "outputId": "ccfe5fe7-62aa-44c1-aa31-cae168e7da00"
      },
      "execution_count": 388,
      "outputs": [
        {
          "output_type": "display_data",
          "data": {
            "text/plain": [
              "<Figure size 432x288 with 1 Axes>"
            ],
            "image/png": "[encoded data removed]"
          },
          "metadata": {
            "needs_background": "light"
          }
        }
      ]
    },
    {
      "cell_type": "markdown",
      "source": [
        "**Visualizing Anomaly ECG**"
      ],
      "metadata": {
        "id": "597imyb2Fp-F"
      }
    },
    {
      "cell_type": "code",
      "source": [
        "plt.grid()\n",
        "plt.plot(np.arange(140), x_train_anomaly[2])\n",
        "plt.title(\"Anomaly ECG\")\n",
        "plt.show()"
      ],
      "metadata": {
        "colab": {
          "base_uri": "https://localhost:8080/",
          "height": 281
        },
        "id": "GInWqVu2y9GB",
        "outputId": "cb408074-4a62-47b2-d474-346d7c120d97"
      },
      "execution_count": 389,
      "outputs": [
        {
          "output_type": "display_data",
          "data": {
            "text/plain": [
              "<Figure size 432x288 with 1 Axes>"
            ],
            "image/png": "[encoded data removed]"
          },
          "metadata": {
            "needs_background": "light"
          }
        }
      ]
    },
    {
      "cell_type": "markdown",
      "source": [
        "**Building the Autoencoder Model**"
      ],
      "metadata": {
        "id": "C362OCCUFy52"
      }
    },
    {
      "cell_type": "code",
      "source": [
        "from keras.models import Model\n",
        "from keras.layers import Dense, Input, Flatten, Dropout\n",
        "\n",
        "SIZE = 140\n",
        "input = Input(shape=(SIZE), name='Input Layer')\n",
        "\n",
        "enc1 = Dense(32, activation='relu', name='Encoder_1')(input)\n",
        "drp = Dropout(0.1)(enc1)\n",
        "enc2 = Dense(16, activation='relu', name='Encoder_2')(drp)\n",
        "drp = Dropout(0.1)(enc2)\n",
        "enc3 = Dense(8, activation='relu', name='Encoder_3')(drp)\n",
        "drp = Dropout(0.1)(enc3)\n",
        "dec1 = Dense(16, activation='relu', name='Decoder_1')(drp)\n",
        "drp = Dropout(0.1)(dec1)\n",
        "dec2 = Dense(32, activation='relu', name='Decoder_2')(drp)\n",
        "drp = Dropout(0.1)(dec2)\n",
        "dec3 = Dense(140, activation='sigmoid', name='Decoder_3')(drp)\n",
        "\n",
        "autoencoder = Model(input,dec3)\n",
        "opt = keras.optimizers.Adam(learning_rate=0.001);\n",
        "autoencoder.compile(optimizer=opt, loss='mse',metrics=['mae']);\n"
      ],
      "metadata": {
        "id": "nso-vlLymZon"
      },
      "execution_count": 425,
      "outputs": []
    },
    {
      "cell_type": "code",
      "source": [
        "keras.utils.plot_model(autoencoder, show_shapes=True)"
      ],
      "metadata": {
        "colab": {
          "base_uri": "https://localhost:8080/",
          "height": 1000
        },
        "id": "Qht_TG96HLGA",
        "outputId": "44c5ef29-3fc0-421f-e67b-5fb77ea19729"
      },
      "execution_count": 426,
      "outputs": [
        {
          "output_type": "execute_result",
          "data": {
            "image/png": "[encoded data removed]",
            "text/plain": [
              "<IPython.core.display.Image object>"
            ]
          },
          "metadata": {},
          "execution_count": 426
        }
      ]
    },
    {
      "cell_type": "code",
      "source": [
        "# Fitting the Model\n",
        "history = autoencoder.fit(x_train_normal,\n",
        "                          x_train_normal,\n",
        "                          epochs=100,\n",
        "                          batch_size = 256,\n",
        "                          validation_data = (x_test_normal,x_test_normal),\n",
        "                          shuffle=True\n",
        "                          )"
      ],
      "metadata": {
        "colab": {
          "base_uri": "https://localhost:8080/"
        },
        "id": "iJV-Aa8MnAtp",
        "outputId": "caffbd62-d5fc-4776-a98f-d796a6bd4844"
      },
      "execution_count": 427,
      "outputs": [
        {
          "output_type": "stream",
          "name": "stdout",
          "text": [
            "Epoch 1/100\n",
            "10/10 [==============================] - 1s 22ms/step - loss: 0.0079 - mae: 0.0640 - val_loss: 0.0075 - val_mae: 0.0611\n",
            "Epoch 2/100\n",
            "10/10 [==============================] - 0s 9ms/step - loss: 0.0073 - mae: 0.0602 - val_loss: 0.0070 - val_mae: 0.0580\n",
            "Epoch 3/100\n",
            "10/10 [==============================] - 0s 7ms/step - loss: 0.0066 - mae: 0.0560 - val_loss: 0.0059 - val_mae: 0.0513\n",
            "Epoch 4/100\n",
            "10/10 [==============================] - 0s 7ms/step - loss: 0.0054 - mae: 0.0492 - val_loss: 0.0041 - val_mae: 0.0405\n",
            "Epoch 5/100\n",
            "10/10 [==============================] - 0s 7ms/step - loss: 0.0041 - mae: 0.0420 - val_loss: 0.0030 - val_mae: 0.0314\n",
            "Epoch 6/100\n",
            "10/10 [==============================] - 0s 8ms/step - loss: 0.0032 - mae: 0.0362 - val_loss: 0.0023 - val_mae: 0.0273\n",
            "Epoch 7/100\n",
            "10/10 [==============================] - 0s 9ms/step - loss: 0.0026 - mae: 0.0334 - val_loss: 0.0019 - val_mae: 0.0260\n",
            "Epoch 8/100\n",
            "10/10 [==============================] - 0s 9ms/step - loss: 0.0022 - mae: 0.0317 - val_loss: 0.0016 - val_mae: 0.0244\n",
            "Epoch 9/100\n",
            "10/10 [==============================] - 0s 7ms/step - loss: 0.0020 - mae: 0.0305 - val_loss: 0.0015 - val_mae: 0.0242\n",
            "Epoch 10/100\n",
            "10/10 [==============================] - 0s 9ms/step - loss: 0.0018 - mae: 0.0294 - val_loss: 0.0014 - val_mae: 0.0236\n",
            "Epoch 11/100\n",
            "10/10 [==============================] - 0s 7ms/step - loss: 0.0017 - mae: 0.0285 - val_loss: 0.0013 - val_mae: 0.0232\n",
            "Epoch 12/100\n",
            "10/10 [==============================] - 0s 8ms/step - loss: 0.0016 - mae: 0.0278 - val_loss: 0.0013 - val_mae: 0.0233\n",
            "Epoch 13/100\n",
            "10/10 [==============================] - 0s 7ms/step - loss: 0.0016 - mae: 0.0269 - val_loss: 0.0013 - val_mae: 0.0226\n",
            "Epoch 14/100\n",
            "10/10 [==============================] - 0s 9ms/step - loss: 0.0015 - mae: 0.0264 - val_loss: 0.0013 - val_mae: 0.0230\n",
            "Epoch 15/100\n",
            "10/10 [==============================] - 0s 7ms/step - loss: 0.0015 - mae: 0.0257 - val_loss: 0.0012 - val_mae: 0.0224\n",
            "Epoch 16/100\n",
            "10/10 [==============================] - 0s 9ms/step - loss: 0.0014 - mae: 0.0255 - val_loss: 0.0012 - val_mae: 0.0221\n",
            "Epoch 17/100\n",
            "10/10 [==============================] - 0s 9ms/step - loss: 0.0014 - mae: 0.0251 - val_loss: 0.0012 - val_mae: 0.0219\n",
            "Epoch 18/100\n",
            "10/10 [==============================] - 0s 8ms/step - loss: 0.0014 - mae: 0.0247 - val_loss: 0.0012 - val_mae: 0.0219\n",
            "Epoch 19/100\n",
            "10/10 [==============================] - 0s 7ms/step - loss: 0.0014 - mae: 0.0243 - val_loss: 0.0012 - val_mae: 0.0217\n",
            "Epoch 20/100\n",
            "10/10 [==============================] - 0s 6ms/step - loss: 0.0013 - mae: 0.0242 - val_loss: 0.0012 - val_mae: 0.0216\n",
            "Epoch 21/100\n",
            "10/10 [==============================] - 0s 8ms/step - loss: 0.0013 - mae: 0.0239 - val_loss: 0.0012 - val_mae: 0.0215\n",
            "Epoch 22/100\n",
            "10/10 [==============================] - 0s 7ms/step - loss: 0.0013 - mae: 0.0237 - val_loss: 0.0012 - val_mae: 0.0215\n",
            "Epoch 23/100\n",
            "10/10 [==============================] - 0s 7ms/step - loss: 0.0013 - mae: 0.0234 - val_loss: 0.0011 - val_mae: 0.0214\n",
            "Epoch 24/100\n",
            "10/10 [==============================] - 0s 7ms/step - loss: 0.0013 - mae: 0.0233 - val_loss: 0.0011 - val_mae: 0.0214\n",
            "Epoch 25/100\n",
            "10/10 [==============================] - 0s 7ms/step - loss: 0.0013 - mae: 0.0233 - val_loss: 0.0011 - val_mae: 0.0213\n",
            "Epoch 26/100\n",
            "10/10 [==============================] - 0s 9ms/step - loss: 0.0013 - mae: 0.0231 - val_loss: 0.0011 - val_mae: 0.0212\n",
            "Epoch 27/100\n",
            "10/10 [==============================] - 0s 6ms/step - loss: 0.0013 - mae: 0.0229 - val_loss: 0.0011 - val_mae: 0.0212\n",
            "Epoch 28/100\n",
            "10/10 [==============================] - 0s 9ms/step - loss: 0.0012 - mae: 0.0228 - val_loss: 0.0011 - val_mae: 0.0211\n",
            "Epoch 29/100\n",
            "10/10 [==============================] - 0s 8ms/step - loss: 0.0012 - mae: 0.0228 - val_loss: 0.0011 - val_mae: 0.0210\n",
            "Epoch 30/100\n",
            "10/10 [==============================] - 0s 10ms/step - loss: 0.0012 - mae: 0.0226 - val_loss: 0.0011 - val_mae: 0.0210\n",
            "Epoch 31/100\n",
            "10/10 [==============================] - 0s 7ms/step - loss: 0.0012 - mae: 0.0225 - val_loss: 0.0011 - val_mae: 0.0210\n",
            "Epoch 32/100\n",
            "10/10 [==============================] - 0s 8ms/step - loss: 0.0012 - mae: 0.0225 - val_loss: 0.0011 - val_mae: 0.0210\n",
            "Epoch 33/100\n",
            "10/10 [==============================] - 0s 7ms/step - loss: 0.0012 - mae: 0.0224 - val_loss: 0.0011 - val_mae: 0.0209\n",
            "Epoch 34/100\n",
            "10/10 [==============================] - 0s 9ms/step - loss: 0.0012 - mae: 0.0224 - val_loss: 0.0011 - val_mae: 0.0207\n",
            "Epoch 35/100\n",
            "10/10 [==============================] - 0s 7ms/step - loss: 0.0012 - mae: 0.0223 - val_loss: 0.0011 - val_mae: 0.0207\n",
            "Epoch 36/100\n",
            "10/10 [==============================] - 0s 7ms/step - loss: 0.0012 - mae: 0.0221 - val_loss: 0.0011 - val_mae: 0.0207\n",
            "Epoch 37/100\n",
            "10/10 [==============================] - 0s 8ms/step - loss: 0.0012 - mae: 0.0221 - val_loss: 0.0011 - val_mae: 0.0206\n",
            "Epoch 38/100\n",
            "10/10 [==============================] - 0s 7ms/step - loss: 0.0012 - mae: 0.0221 - val_loss: 0.0011 - val_mae: 0.0207\n",
            "Epoch 39/100\n",
            "10/10 [==============================] - 0s 7ms/step - loss: 0.0012 - mae: 0.0220 - val_loss: 0.0011 - val_mae: 0.0205\n",
            "Epoch 40/100\n",
            "10/10 [==============================] - 0s 8ms/step - loss: 0.0012 - mae: 0.0218 - val_loss: 0.0011 - val_mae: 0.0204\n",
            "Epoch 41/100\n",
            "10/10 [==============================] - 0s 7ms/step - loss: 0.0012 - mae: 0.0217 - val_loss: 0.0011 - val_mae: 0.0205\n",
            "Epoch 42/100\n",
            "10/10 [==============================] - 0s 7ms/step - loss: 0.0012 - mae: 0.0219 - val_loss: 0.0011 - val_mae: 0.0206\n",
            "Epoch 43/100\n",
            "10/10 [==============================] - 0s 7ms/step - loss: 0.0012 - mae: 0.0217 - val_loss: 0.0011 - val_mae: 0.0203\n",
            "Epoch 44/100\n",
            "10/10 [==============================] - 0s 8ms/step - loss: 0.0012 - mae: 0.0217 - val_loss: 0.0011 - val_mae: 0.0203\n",
            "Epoch 45/100\n",
            "10/10 [==============================] - 0s 8ms/step - loss: 0.0011 - mae: 0.0215 - val_loss: 0.0011 - val_mae: 0.0202\n",
            "Epoch 46/100\n",
            "10/10 [==============================] - 0s 9ms/step - loss: 0.0011 - mae: 0.0215 - val_loss: 0.0010 - val_mae: 0.0201\n",
            "Epoch 47/100\n",
            "10/10 [==============================] - 0s 8ms/step - loss: 0.0011 - mae: 0.0214 - val_loss: 0.0010 - val_mae: 0.0200\n",
            "Epoch 48/100\n",
            "10/10 [==============================] - 0s 9ms/step - loss: 0.0011 - mae: 0.0213 - val_loss: 0.0010 - val_mae: 0.0199\n",
            "Epoch 49/100\n",
            "10/10 [==============================] - 0s 9ms/step - loss: 0.0011 - mae: 0.0211 - val_loss: 0.0010 - val_mae: 0.0196\n",
            "Epoch 50/100\n",
            "10/10 [==============================] - 0s 9ms/step - loss: 0.0011 - mae: 0.0211 - val_loss: 9.9637e-04 - val_mae: 0.0195\n",
            "Epoch 51/100\n",
            "10/10 [==============================] - 0s 8ms/step - loss: 0.0011 - mae: 0.0210 - val_loss: 9.8448e-04 - val_mae: 0.0194\n",
            "Epoch 52/100\n",
            "10/10 [==============================] - 0s 9ms/step - loss: 0.0011 - mae: 0.0208 - val_loss: 9.7034e-04 - val_mae: 0.0192\n",
            "Epoch 53/100\n",
            "10/10 [==============================] - 0s 7ms/step - loss: 0.0011 - mae: 0.0207 - val_loss: 9.5073e-04 - val_mae: 0.0190\n",
            "Epoch 54/100\n",
            "10/10 [==============================] - 0s 7ms/step - loss: 0.0011 - mae: 0.0206 - val_loss: 9.3003e-04 - val_mae: 0.0187\n",
            "Epoch 55/100\n",
            "10/10 [==============================] - 0s 8ms/step - loss: 0.0010 - mae: 0.0204 - val_loss: 9.1945e-04 - val_mae: 0.0187\n",
            "Epoch 56/100\n",
            "10/10 [==============================] - 0s 9ms/step - loss: 0.0010 - mae: 0.0203 - val_loss: 8.9667e-04 - val_mae: 0.0183\n",
            "Epoch 57/100\n",
            "10/10 [==============================] - 0s 9ms/step - loss: 0.0010 - mae: 0.0202 - val_loss: 8.8188e-04 - val_mae: 0.0182\n",
            "Epoch 58/100\n",
            "10/10 [==============================] - 0s 9ms/step - loss: 9.9968e-04 - mae: 0.0201 - val_loss: 8.7649e-04 - val_mae: 0.0181\n",
            "Epoch 59/100\n",
            "10/10 [==============================] - 0s 7ms/step - loss: 9.8395e-04 - mae: 0.0200 - val_loss: 8.5763e-04 - val_mae: 0.0180\n",
            "Epoch 60/100\n",
            "10/10 [==============================] - 0s 9ms/step - loss: 9.7724e-04 - mae: 0.0200 - val_loss: 8.4633e-04 - val_mae: 0.0179\n",
            "Epoch 61/100\n",
            "10/10 [==============================] - 0s 8ms/step - loss: 9.7419e-04 - mae: 0.0199 - val_loss: 8.4025e-04 - val_mae: 0.0179\n",
            "Epoch 62/100\n",
            "10/10 [==============================] - 0s 7ms/step - loss: 9.6233e-04 - mae: 0.0198 - val_loss: 8.4743e-04 - val_mae: 0.0180\n",
            "Epoch 63/100\n",
            "10/10 [==============================] - 0s 7ms/step - loss: 9.5416e-04 - mae: 0.0197 - val_loss: 8.2784e-04 - val_mae: 0.0178\n",
            "Epoch 64/100\n",
            "10/10 [==============================] - 0s 7ms/step - loss: 9.4342e-04 - mae: 0.0196 - val_loss: 8.2893e-04 - val_mae: 0.0179\n",
            "Epoch 65/100\n",
            "10/10 [==============================] - 0s 7ms/step - loss: 9.4860e-04 - mae: 0.0196 - val_loss: 8.2185e-04 - val_mae: 0.0177\n",
            "Epoch 66/100\n",
            "10/10 [==============================] - 0s 7ms/step - loss: 9.4159e-04 - mae: 0.0195 - val_loss: 8.0810e-04 - val_mae: 0.0175\n",
            "Epoch 67/100\n",
            "10/10 [==============================] - 0s 7ms/step - loss: 9.1324e-04 - mae: 0.0192 - val_loss: 8.1571e-04 - val_mae: 0.0178\n",
            "Epoch 68/100\n",
            "10/10 [==============================] - 0s 7ms/step - loss: 9.2202e-04 - mae: 0.0193 - val_loss: 8.1326e-04 - val_mae: 0.0176\n",
            "Epoch 69/100\n",
            "10/10 [==============================] - 0s 7ms/step - loss: 9.1553e-04 - mae: 0.0192 - val_loss: 7.9088e-04 - val_mae: 0.0174\n",
            "Epoch 70/100\n",
            "10/10 [==============================] - 0s 7ms/step - loss: 9.0963e-04 - mae: 0.0192 - val_loss: 7.8849e-04 - val_mae: 0.0174\n",
            "Epoch 71/100\n",
            "10/10 [==============================] - 0s 8ms/step - loss: 8.9855e-04 - mae: 0.0191 - val_loss: 7.8217e-04 - val_mae: 0.0173\n",
            "Epoch 72/100\n",
            "10/10 [==============================] - 0s 9ms/step - loss: 8.8745e-04 - mae: 0.0190 - val_loss: 7.7265e-04 - val_mae: 0.0172\n",
            "Epoch 73/100\n",
            "10/10 [==============================] - 0s 7ms/step - loss: 8.8198e-04 - mae: 0.0189 - val_loss: 7.6977e-04 - val_mae: 0.0171\n",
            "Epoch 74/100\n",
            "10/10 [==============================] - 0s 7ms/step - loss: 8.8024e-04 - mae: 0.0189 - val_loss: 7.6242e-04 - val_mae: 0.0171\n",
            "Epoch 75/100\n",
            "10/10 [==============================] - 0s 9ms/step - loss: 8.6968e-04 - mae: 0.0188 - val_loss: 7.6458e-04 - val_mae: 0.0172\n",
            "Epoch 76/100\n",
            "10/10 [==============================] - 0s 7ms/step - loss: 8.6284e-04 - mae: 0.0187 - val_loss: 7.5256e-04 - val_mae: 0.0170\n",
            "Epoch 77/100\n",
            "10/10 [==============================] - 0s 7ms/step - loss: 8.6851e-04 - mae: 0.0188 - val_loss: 7.6168e-04 - val_mae: 0.0173\n",
            "Epoch 78/100\n",
            "10/10 [==============================] - 0s 9ms/step - loss: 8.6210e-04 - mae: 0.0187 - val_loss: 7.4990e-04 - val_mae: 0.0171\n",
            "Epoch 79/100\n",
            "10/10 [==============================] - 0s 7ms/step - loss: 8.5760e-04 - mae: 0.0187 - val_loss: 7.4116e-04 - val_mae: 0.0169\n",
            "Epoch 80/100\n",
            "10/10 [==============================] - 0s 8ms/step - loss: 8.4627e-04 - mae: 0.0185 - val_loss: 7.2770e-04 - val_mae: 0.0168\n",
            "Epoch 81/100\n",
            "10/10 [==============================] - 0s 7ms/step - loss: 8.3737e-04 - mae: 0.0184 - val_loss: 7.2733e-04 - val_mae: 0.0168\n",
            "Epoch 82/100\n",
            "10/10 [==============================] - 0s 9ms/step - loss: 8.3349e-04 - mae: 0.0183 - val_loss: 7.1743e-04 - val_mae: 0.0166\n",
            "Epoch 83/100\n",
            "10/10 [==============================] - 0s 7ms/step - loss: 8.2859e-04 - mae: 0.0183 - val_loss: 7.1506e-04 - val_mae: 0.0166\n",
            "Epoch 84/100\n",
            "10/10 [==============================] - 0s 9ms/step - loss: 8.3654e-04 - mae: 0.0184 - val_loss: 7.1587e-04 - val_mae: 0.0166\n",
            "Epoch 85/100\n",
            "10/10 [==============================] - 0s 7ms/step - loss: 8.2967e-04 - mae: 0.0183 - val_loss: 7.0443e-04 - val_mae: 0.0165\n",
            "Epoch 86/100\n",
            "10/10 [==============================] - 0s 7ms/step - loss: 8.1461e-04 - mae: 0.0182 - val_loss: 7.0199e-04 - val_mae: 0.0165\n",
            "Epoch 87/100\n",
            "10/10 [==============================] - 0s 7ms/step - loss: 8.0858e-04 - mae: 0.0181 - val_loss: 6.9007e-04 - val_mae: 0.0164\n",
            "Epoch 88/100\n",
            "10/10 [==============================] - 0s 8ms/step - loss: 8.0317e-04 - mae: 0.0181 - val_loss: 6.9375e-04 - val_mae: 0.0165\n",
            "Epoch 89/100\n",
            "10/10 [==============================] - 0s 8ms/step - loss: 8.1525e-04 - mae: 0.0182 - val_loss: 6.8365e-04 - val_mae: 0.0163\n",
            "Epoch 90/100\n",
            "10/10 [==============================] - 0s 7ms/step - loss: 7.9597e-04 - mae: 0.0180 - val_loss: 6.8161e-04 - val_mae: 0.0163\n",
            "Epoch 91/100\n",
            "10/10 [==============================] - 0s 7ms/step - loss: 7.7534e-04 - mae: 0.0178 - val_loss: 6.7529e-04 - val_mae: 0.0162\n",
            "Epoch 92/100\n",
            "10/10 [==============================] - 0s 7ms/step - loss: 7.7570e-04 - mae: 0.0178 - val_loss: 6.7647e-04 - val_mae: 0.0163\n",
            "Epoch 93/100\n",
            "10/10 [==============================] - 0s 7ms/step - loss: 7.8573e-04 - mae: 0.0179 - val_loss: 6.6685e-04 - val_mae: 0.0162\n",
            "Epoch 94/100\n",
            "10/10 [==============================] - 0s 9ms/step - loss: 7.6485e-04 - mae: 0.0177 - val_loss: 6.6861e-04 - val_mae: 0.0162\n",
            "Epoch 95/100\n",
            "10/10 [==============================] - 0s 8ms/step - loss: 7.7904e-04 - mae: 0.0178 - val_loss: 6.6287e-04 - val_mae: 0.0161\n",
            "Epoch 96/100\n",
            "10/10 [==============================] - 0s 7ms/step - loss: 7.7561e-04 - mae: 0.0178 - val_loss: 6.6922e-04 - val_mae: 0.0162\n",
            "Epoch 97/100\n",
            "10/10 [==============================] - 0s 9ms/step - loss: 7.5904e-04 - mae: 0.0177 - val_loss: 6.6992e-04 - val_mae: 0.0162\n",
            "Epoch 98/100\n",
            "10/10 [==============================] - 0s 9ms/step - loss: 7.7611e-04 - mae: 0.0177 - val_loss: 6.5502e-04 - val_mae: 0.0161\n",
            "Epoch 99/100\n",
            "10/10 [==============================] - 0s 7ms/step - loss: 7.5735e-04 - mae: 0.0176 - val_loss: 6.5187e-04 - val_mae: 0.0161\n",
            "Epoch 100/100\n",
            "10/10 [==============================] - 0s 10ms/step - loss: 7.5314e-04 - mae: 0.0176 - val_loss: 6.4250e-04 - val_mae: 0.0159\n"
          ]
        }
      ]
    },
    {
      "cell_type": "markdown",
      "source": [
        "**Plotting Training Loss Vs Validation Loss**"
      ],
      "metadata": {
        "id": "1Go88_5na0Mp"
      }
    },
    {
      "cell_type": "code",
      "source": [
        "plt.plot(history.history[\"loss\"], label=\"Training Loss\")\n",
        "plt.plot(history.history[\"val_loss\"], label=\"Validation Loss\")\n",
        "plt.title(\"Training Loss Vs Validation Loss\")\n",
        "plt.legend()\n",
        "plt.show()"
      ],
      "metadata": {
        "colab": {
          "base_uri": "https://localhost:8080/",
          "height": 281
        },
        "id": "1N74XD_otVl2",
        "outputId": "868bc981-a883-4d5e-ad7d-2c8bf2def960"
      },
      "execution_count": 428,
      "outputs": [
        {
          "output_type": "display_data",
          "data": {
            "text/plain": [
              "<Figure size 432x288 with 1 Axes>"
            ],
            "image/png": "[encoded data removed]"
          },
          "metadata": {
            "needs_background": "light"
          }
        }
      ]
    },
    {
      "cell_type": "code",
      "source": [
        "# Plotting Training MAE Vs Validation MAE\n",
        "plt.plot(history.history[\"mae\"], label=\"Training Accuracy\")\n",
        "plt.plot(history.history[\"val_mae\"], label=\"Validation Accuracy\")\n",
        "plt.legend()\n",
        "plt.show()"
      ],
      "metadata": {
        "id": "jIkvct74t6wW",
        "colab": {
          "base_uri": "https://localhost:8080/",
          "height": 265
        },
        "outputId": "b122c854-22c3-4fe5-ebbc-37b193fa729d"
      },
      "execution_count": 429,
      "outputs": [
        {
          "output_type": "display_data",
          "data": {
            "text/plain": [
              "<Figure size 432x288 with 1 Axes>"
            ],
            "image/png": "[encoded data removed]"
          },
          "metadata": {
            "needs_background": "light"
          }
        }
      ]
    },
    {
      "cell_type": "markdown",
      "source": [
        "**Plotting the Reconstructed ECG for Normal and Anomaly and also visualizing the error**"
      ],
      "metadata": {
        "id": "FC67r0khfAuw"
      }
    },
    {
      "cell_type": "code",
      "source": [
        "encoder = Model(input,enc3)\n",
        "decoder = Model(enc3,dec3)\n",
        "\n",
        "encoded_normal = encoder(x_test_normal).numpy()\n",
        "decoded_normal = decoder(encoded_normal).numpy()\n",
        "\n",
        "encoded_anomaly = encoder(x_test_anomaly).numpy()\n",
        "decoded_anomaly = decoder(encoded_anomaly).numpy()"
      ],
      "metadata": {
        "id": "rLaQQtDNfgmG"
      },
      "execution_count": 451,
      "outputs": []
    },
    {
      "cell_type": "markdown",
      "source": [
        "Normal ECG"
      ],
      "metadata": {
        "id": "K2gFprHXhsCV"
      }
    },
    {
      "cell_type": "code",
      "source": [
        "plt.plot(x_test_normal[0],'b')\n",
        "plt.plot(decoded_normal[0],'g')\n",
        "plt.fill_between(np.arange(140), decoded_normal[0], x_test_normal[0],color='red')\n",
        "plt.legend(['Input','Reconstructed','Error'])\n",
        "plt.show()"
      ],
      "metadata": {
        "colab": {
          "base_uri": "https://localhost:8080/",
          "height": 265
        },
        "id": "giFaLDG4e6nl",
        "outputId": "77ef368b-f1dd-4717-c59d-519d3f8e2f04"
      },
      "execution_count": 452,
      "outputs": [
        {
          "output_type": "display_data",
          "data": {
            "text/plain": [
              "<Figure size 432x288 with 1 Axes>"
            ],
            "image/png": "[encoded data removed]"
          },
          "metadata": {
            "needs_background": "light"
          }
        }
      ]
    },
    {
      "cell_type": "markdown",
      "source": [
        "Anomaly ECG"
      ],
      "metadata": {
        "id": "HRo0ZItyh0oN"
      }
    },
    {
      "cell_type": "code",
      "source": [
        "plt.plot(x_test_anomaly[0],'b')\n",
        "plt.plot(decoded_anomaly[0],'g')\n",
        "plt.fill_between(np.arange(140), decoded_anomaly[0], x_test_anomaly[0],color='red')\n",
        "plt.legend(['Input','Reconstructed','Error'])\n",
        "plt.show()"
      ],
      "metadata": {
        "colab": {
          "base_uri": "https://localhost:8080/",
          "height": 265
        },
        "id": "Oj6Xm_9Ah3ZS",
        "outputId": "aca83290-8947-416f-90fe-41a3b53fff6e"
      },
      "execution_count": 455,
      "outputs": [
        {
          "output_type": "display_data",
          "data": {
            "text/plain": [
              "<Figure size 432x288 with 1 Axes>"
            ],
            "image/png": "[encoded data removed]"
          },
          "metadata": {
            "needs_background": "light"
          }
        }
      ]
    },
    {
      "cell_type": "markdown",
      "source": [
        " **Train Error(MSE) Distribution**"
      ],
      "metadata": {
        "id": "rCbZ9IIBOJpW"
      }
    },
    {
      "cell_type": "code",
      "source": [
        "reconstructed_normal = autoencoder.predict(x_train_normal)\n",
        "train_error_normal = keras.losses.mse(reconstructed_normal,x_train_normal)\n",
        "\n",
        "reconstructed_anomaly = autoencoder.predict(x_train_anomaly)\n",
        "train_error_anomaly = keras.losses.mse(reconstructed_anomaly,x_train_anomaly)\n",
        "\n",
        "plt.hist(train_error_normal, bins=50)\n",
        "plt.hist(train_error_anomaly, bins=50)\n",
        "plt.title(\"Train Error Distribution, Normal Vs Anomlay\")\n",
        "plt.xlabel(\"Train loss(MAE)\")\n",
        "plt.ylabel(\"No of instances\")\n",
        "plt.grid()\n",
        "plt.legend(['Normal','Anomaly'])\n",
        "plt.show()"
      ],
      "metadata": {
        "colab": {
          "base_uri": "https://localhost:8080/",
          "height": 330
        },
        "id": "WcN7s09bkg2z",
        "outputId": "2b8b977e-fb4b-4069-9172-732abc911b14"
      },
      "execution_count": 430,
      "outputs": [
        {
          "output_type": "stream",
          "name": "stdout",
          "text": [
            "74/74 [==============================] - 0s 1ms/step\n",
            "52/52 [==============================] - 0s 1ms/step\n"
          ]
        },
        {
          "output_type": "display_data",
          "data": {
            "text/plain": [
              "<Figure size 432x288 with 1 Axes>"
            ],
            "image/png": "[encoded data removed]"
          },
          "metadata": {
            "needs_background": "light"
          }
        }
      ]
    },
    {
      "cell_type": "markdown",
      "source": [
        "**Finding Threshold to Detect Anomaly in ECG Data**"
      ],
      "metadata": {
        "id": "5OYjAEj6L7PU"
      }
    },
    {
      "cell_type": "code",
      "source": [
        "# Calculating Train Error\n",
        "reconstructed_normal = autoencoder.predict(x_train_normal)\n",
        "train_error = keras.losses.mse(reconstructed_normal,x_train_normal)\n",
        "\n",
        "# Calculating Threshold\n",
        "threshold = np.mean(train_error)+np.std(train_error)\n",
        "threshold"
      ],
      "metadata": {
        "colab": {
          "base_uri": "https://localhost:8080/"
        },
        "id": "F98RCSzQLryF",
        "outputId": "e9fc2dfc-e514-40fe-b6c1-2e5f461f82fc"
      },
      "execution_count": 431,
      "outputs": [
        {
          "output_type": "stream",
          "name": "stdout",
          "text": [
            "74/74 [==============================] - 0s 1ms/step\n"
          ]
        },
        {
          "output_type": "execute_result",
          "data": {
            "text/plain": [
              "0.0011905163068426472"
            ]
          },
          "metadata": {},
          "execution_count": 431
        }
      ]
    },
    {
      "cell_type": "markdown",
      "source": [
        "**Test Error(MSE) Distribution**"
      ],
      "metadata": {
        "id": "v_GAOjrJOQAV"
      }
    },
    {
      "cell_type": "code",
      "source": [
        "reconstructed_normal = autoencoder.predict(x_test_normal)\n",
        "test_error_normal = keras.losses.mse(reconstructed_normal,x_test_normal)\n",
        "\n",
        "reconstructed_anomaly = autoencoder.predict(x_test_anomaly)\n",
        "test_error_anomaly = keras.losses.mse(reconstructed_anomaly,x_test_anomaly)\n",
        "\n",
        "plt.hist(test_error_normal, bins=50)\n",
        "plt.hist(test_error_anomaly, bins=50)\n",
        "plt.axvline(threshold,c='g')\n",
        "plt.title(\"Test Error Distribution, Normal Vs Anomlay\")\n",
        "plt.xlabel(\"Test loss(MAE)\")\n",
        "plt.ylabel(\"No of instances\")\n",
        "plt.grid()\n",
        "plt.legend(['Threshold','Normal','Anomaly'])\n",
        "plt.show()"
      ],
      "metadata": {
        "colab": {
          "base_uri": "https://localhost:8080/",
          "height": 330
        },
        "id": "3AP-zpueqLdt",
        "outputId": "050af340-f5a9-4647-d458-4975fa4426ca"
      },
      "execution_count": 432,
      "outputs": [
        {
          "output_type": "stream",
          "name": "stdout",
          "text": [
            "19/19 [==============================] - 0s 2ms/step\n",
            "14/14 [==============================] - 0s 2ms/step\n"
          ]
        },
        {
          "output_type": "display_data",
          "data": {
            "text/plain": [
              "<Figure size 432x288 with 1 Axes>"
            ],
            "image/png": "[encoded data removed]"
          },
          "metadata": {
            "needs_background": "light"
          }
        }
      ]
    },
    {
      "cell_type": "markdown",
      "source": [
        "**Evaluating the Model Performance**"
      ],
      "metadata": {
        "id": "-0TOnxQXbV5M"
      }
    },
    {
      "cell_type": "code",
      "source": [
        "def find_prediction(model,test_data,threshold):\n",
        "  test_pred = model.predict(test_data)\n",
        "  test_error = keras.losses.mse(test_pred,test_data)\n",
        "  return tf.math.less(test_error,threshold)"
      ],
      "metadata": {
        "id": "L9RN2mWMmosK"
      },
      "execution_count": 433,
      "outputs": []
    },
    {
      "cell_type": "code",
      "source": [
        "def evaluate(pred, label):\n",
        "  print(\"Accuracy = \"+str(accuracy_score(label,pred)))\n",
        "  print(\"Precision = \"+str(precision_score(label,pred)))\n",
        "  print(\"Recall = \"+str(recall_score(label,pred)))"
      ],
      "metadata": {
        "id": "qcg6df_TSrvh"
      },
      "execution_count": 434,
      "outputs": []
    },
    {
      "cell_type": "code",
      "source": [
        "pred = find_prediction(autoencoder,x_test,threshold)\n",
        "evaluate(pred,y_test)"
      ],
      "metadata": {
        "colab": {
          "base_uri": "https://localhost:8080/"
        },
        "id": "pYHBsTMQu_I1",
        "outputId": "0a530f65-16ce-4773-db03-353ae1c6ea92"
      },
      "execution_count": 435,
      "outputs": [
        {
          "output_type": "stream",
          "name": "stdout",
          "text": [
            "32/32 [==============================] - 0s 1ms/step\n",
            "Accuracy = 0.943\n",
            "Precision = 1.0\n",
            "Recall = 0.9020618556701031\n"
          ]
        }
      ]
    },
    {
      "cell_type": "markdown",
      "source": [
        "Key Observations:<br>\n",
        "<ul>\n",
        "<li>Use of MinMaxScaler results in the loss of Features which leads to poor Performance of the Model</li>\n",
        "<li>Mean Squared Error(MSE) is slightly better than Mean Absolute Error (MAE) as a loss function</li>\n",
        "<li>This Model is able to make predictions with 94% accuracy</li>\n",
        "<li>More number of Epochs are required to improve the Model Performance\n",
        "</ul>"
      ],
      "metadata": {
        "id": "pVrbVTXpb6bm"
      }
    },
    {
      "cell_type": "code",
      "source": [],
      "metadata": {
        "id": "jTL0SlwzysJ2"
      },
      "execution_count": 400,
      "outputs": []
    }
  ]
}